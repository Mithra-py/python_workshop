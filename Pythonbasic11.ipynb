{
  "nbformat": 4,
  "nbformat_minor": 0,
  "metadata": {
    "colab": {
      "name": "Pythonbasic11.ipynb",
      "provenance": [],
      "collapsed_sections": [],
      "authorship_tag": "ABX9TyOhlgTJY3V/tuTfZUz3/KoR",
      "include_colab_link": true
    },
    "kernelspec": {
      "name": "python3",
      "display_name": "Python 3"
    },
    "language_info": {
      "name": "python"
    }
  },
  "cells": [
    {
      "cell_type": "markdown",
      "metadata": {
        "id": "view-in-github",
        "colab_type": "text"
      },
      "source": [
        "<a href=\"https://colab.research.google.com/github/Mithra-py/python_workshop/blob/main/Pythonbasic11.ipynb\" target=\"_parent\"><img src=\"https://colab.research.google.com/assets/colab-badge.svg\" alt=\"Open In Colab\"/></a>"
      ]
    },
    {
      "cell_type": "code",
      "execution_count": null,
      "metadata": {
        "id": "4B6jJZkbNyQ-"
      },
      "outputs": [],
      "source": [
        "date = \"8/2/2022\""
      ]
    },
    {
      "cell_type": "code",
      "source": [
        "set(date)"
      ],
      "metadata": {
        "colab": {
          "base_uri": "https://localhost:8080/"
        },
        "id": "YVBz141VbMrK",
        "outputId": "60cd7673-a63e-47a5-cfe7-2ceab066c506"
      },
      "execution_count": null,
      "outputs": [
        {
          "output_type": "execute_result",
          "data": {
            "text/plain": [
              "{'/', '0', '2', '8'}"
            ]
          },
          "metadata": {},
          "execution_count": 2
        }
      ]
    },
    {
      "cell_type": "code",
      "source": [
        "{date}"
      ],
      "metadata": {
        "colab": {
          "base_uri": "https://localhost:8080/"
        },
        "id": "7xtxMlJWbP-S",
        "outputId": "d5c3104d-f9f4-4bfd-df8c-d58e91981395"
      },
      "execution_count": null,
      "outputs": [
        {
          "output_type": "execute_result",
          "data": {
            "text/plain": [
              "{'8/2/2022'}"
            ]
          },
          "metadata": {},
          "execution_count": 3
        }
      ]
    },
    {
      "cell_type": "code",
      "source": [
        "usa = set(\"washington\")\n",
        "nz = set(\"wellington\")"
      ],
      "metadata": {
        "id": "KcvTYw0lba2T"
      },
      "execution_count": null,
      "outputs": []
    },
    {
      "cell_type": "code",
      "source": [
        "usa - nz  # fark kümesi"
      ],
      "metadata": {
        "colab": {
          "base_uri": "https://localhost:8080/"
        },
        "id": "ngGcfWU6c3XZ",
        "outputId": "5c747ca5-c05a-4275-e0ff-55c231091d5d"
      },
      "execution_count": null,
      "outputs": [
        {
          "output_type": "execute_result",
          "data": {
            "text/plain": [
              "{'a', 'h', 's'}"
            ]
          },
          "metadata": {},
          "execution_count": 5
        }
      ]
    },
    {
      "cell_type": "code",
      "source": [
        "nz - usa  #fark kümesi"
      ],
      "metadata": {
        "colab": {
          "base_uri": "https://localhost:8080/"
        },
        "id": "xvBQrDq2c7D_",
        "outputId": "d1ce802d-9c70-4f92-b4d2-359de2ab6b5e"
      },
      "execution_count": null,
      "outputs": [
        {
          "output_type": "execute_result",
          "data": {
            "text/plain": [
              "{'e', 'l'}"
            ]
          },
          "metadata": {},
          "execution_count": 6
        }
      ]
    },
    {
      "cell_type": "code",
      "source": [
        "usa | nz  # birleşim kümesi"
      ],
      "metadata": {
        "colab": {
          "base_uri": "https://localhost:8080/"
        },
        "id": "VpZ80jjjc8Xy",
        "outputId": "0827fa6e-d049-421d-b0d5-a024e4f2c3f0"
      },
      "execution_count": null,
      "outputs": [
        {
          "output_type": "execute_result",
          "data": {
            "text/plain": [
              "{'a', 'e', 'g', 'h', 'i', 'l', 'n', 'o', 's', 't', 'w'}"
            ]
          },
          "metadata": {},
          "execution_count": 7
        }
      ]
    },
    {
      "cell_type": "code",
      "source": [
        "usa & nz  # kesişim kümesi"
      ],
      "metadata": {
        "colab": {
          "base_uri": "https://localhost:8080/"
        },
        "id": "spX4iM5Gc_hz",
        "outputId": "c25005f6-f901-44fe-c66b-ff9548c218c2"
      },
      "execution_count": null,
      "outputs": [
        {
          "output_type": "execute_result",
          "data": {
            "text/plain": [
              "{'g', 'i', 'n', 'o', 't', 'w'}"
            ]
          },
          "metadata": {},
          "execution_count": 8
        }
      ]
    },
    {
      "cell_type": "code",
      "source": [
        "if \"0\" :\n",
        "  print(\"hello world\")"
      ],
      "metadata": {
        "colab": {
          "base_uri": "https://localhost:8080/"
        },
        "id": "NxR8-CE_dEem",
        "outputId": "3dfe1aeb-6796-4306-ed27-a645f13883d9"
      },
      "execution_count": null,
      "outputs": [
        {
          "output_type": "stream",
          "name": "stdout",
          "text": [
            "hello world\n"
          ]
        }
      ]
    },
    {
      "cell_type": "code",
      "source": [
        "if \"0\" and \"\" :\n",
        "  print(\"hello world\")\n",
        "print(\"fsociety\")"
      ],
      "metadata": {
        "colab": {
          "base_uri": "https://localhost:8080/"
        },
        "id": "alBPMllmioOW",
        "outputId": "254a26de-cca8-41c1-8578-b37fdcd6c09b"
      },
      "execution_count": null,
      "outputs": [
        {
          "output_type": "stream",
          "name": "stdout",
          "text": [
            "fsociety\n"
          ]
        }
      ]
    },
    {
      "cell_type": "code",
      "source": [
        "if True:\n",
        "  print(\"is it true\")"
      ],
      "metadata": {
        "colab": {
          "base_uri": "https://localhost:8080/"
        },
        "id": "HcsAexRFi4HP",
        "outputId": "0e8aa268-b94c-4e30-8e79-3b907d61d582"
      },
      "execution_count": null,
      "outputs": [
        {
          "output_type": "stream",
          "name": "stdout",
          "text": [
            "is it true\n"
          ]
        }
      ]
    },
    {
      "cell_type": "code",
      "source": [
        "if 0 and \"False\" and None :\n",
        "  print(\"hello world\")\n",
        "print(\"fsociety\")"
      ],
      "metadata": {
        "colab": {
          "base_uri": "https://localhost:8080/"
        },
        "id": "lcbS4GgWkDvG",
        "outputId": "d7a2c4d5-7312-46c8-8ab1-f966d59b5aff"
      },
      "execution_count": null,
      "outputs": [
        {
          "output_type": "stream",
          "name": "stdout",
          "text": [
            "fsociety\n"
          ]
        }
      ]
    },
    {
      "cell_type": "code",
      "source": [
        "# if komutunun çalışması için True görmesi gerekir."
      ],
      "metadata": {
        "id": "9MLRZUdmkWOq"
      },
      "execution_count": null,
      "outputs": []
    },
    {
      "cell_type": "code",
      "source": [
        "if 1 :\n",
        "  print(\"okul\")"
      ],
      "metadata": {
        "colab": {
          "base_uri": "https://localhost:8080/"
        },
        "id": "T8evZ-4YkdzH",
        "outputId": "df8d34fd-096e-4978-a30b-8fbf1e9ac764"
      },
      "execution_count": null,
      "outputs": [
        {
          "output_type": "stream",
          "name": "stdout",
          "text": [
            "okul\n"
          ]
        }
      ]
    },
    {
      "cell_type": "code",
      "source": [
        "if 0 :\n",
        "  print(\"okul\")"
      ],
      "metadata": {
        "id": "XWPsU6S9kjDr"
      },
      "execution_count": null,
      "outputs": []
    },
    {
      "cell_type": "code",
      "source": [
        "if [\"\"]:\n",
        "  print(\"hello\")"
      ],
      "metadata": {
        "colab": {
          "base_uri": "https://localhost:8080/"
        },
        "id": "GUk7Dma7kn3a",
        "outputId": "168d2ea2-776a-42a2-eba2-7e8047ef40d7"
      },
      "execution_count": null,
      "outputs": [
        {
          "output_type": "stream",
          "name": "stdout",
          "text": [
            "hello\n"
          ]
        }
      ]
    },
    {
      "cell_type": "code",
      "source": [
        "grocery_store = True\n",
        "\n",
        "# greens\n",
        "onion = True\n",
        "lettuce = False\n",
        "\n",
        "meat = True\n",
        "\n",
        "bread = True"
      ],
      "metadata": {
        "id": "dKvJ_F5Mkvux"
      },
      "execution_count": null,
      "outputs": []
    },
    {
      "cell_type": "code",
      "source": [
        "if grocery_store and (onion or lettuce) and meat and bread:\n",
        "  print(\"Bon Appetit\")"
      ],
      "metadata": {
        "colab": {
          "base_uri": "https://localhost:8080/"
        },
        "id": "0QJ7DZF9lUGE",
        "outputId": "a974ffb1-a471-4511-f873-e06d8885203a"
      },
      "execution_count": null,
      "outputs": [
        {
          "output_type": "stream",
          "name": "stdout",
          "text": [
            "Bon Appetit\n"
          ]
        }
      ]
    },
    {
      "cell_type": "code",
      "source": [
        "hamburger = grocery_store and (onion or lettuce) and meat and bread"
      ],
      "metadata": {
        "id": "fNwMPV7BlsL9"
      },
      "execution_count": null,
      "outputs": []
    },
    {
      "cell_type": "code",
      "source": [
        "if hamburger:\n",
        "  print(\"bon Appetit\")"
      ],
      "metadata": {
        "colab": {
          "base_uri": "https://localhost:8080/"
        },
        "id": "63Vty9mdmJiu",
        "outputId": "7a59e3a4-d109-4fff-9593-0361056cdfcf"
      },
      "execution_count": null,
      "outputs": [
        {
          "output_type": "stream",
          "name": "stdout",
          "text": [
            "bon Appetit\n"
          ]
        }
      ]
    },
    {
      "cell_type": "code",
      "source": [
        "1 == 1.0  # eşittir."
      ],
      "metadata": {
        "colab": {
          "base_uri": "https://localhost:8080/"
        },
        "id": "_yPQslkCmPXI",
        "outputId": "bba8e814-18e4-4278-ba10-d3c068aa50ed"
      },
      "execution_count": null,
      "outputs": [
        {
          "output_type": "execute_result",
          "data": {
            "text/plain": [
              "True"
            ]
          },
          "metadata": {},
          "execution_count": 28
        }
      ]
    },
    {
      "cell_type": "code",
      "source": [
        "3 > 1"
      ],
      "metadata": {
        "colab": {
          "base_uri": "https://localhost:8080/"
        },
        "id": "vMQi3M66rUPt",
        "outputId": "909a27a1-402e-44db-bc5e-64fa733c2557"
      },
      "execution_count": null,
      "outputs": [
        {
          "output_type": "execute_result",
          "data": {
            "text/plain": [
              "True"
            ]
          },
          "metadata": {},
          "execution_count": 29
        }
      ]
    },
    {
      "cell_type": "code",
      "source": [
        "3 >= 2"
      ],
      "metadata": {
        "colab": {
          "base_uri": "https://localhost:8080/"
        },
        "id": "KvskichjrYED",
        "outputId": "891d1674-0b71-4b09-a520-ea11dbc641ff"
      },
      "execution_count": null,
      "outputs": [
        {
          "output_type": "execute_result",
          "data": {
            "text/plain": [
              "True"
            ]
          },
          "metadata": {},
          "execution_count": 32
        }
      ]
    },
    {
      "cell_type": "code",
      "source": [
        "3 >= 3"
      ],
      "metadata": {
        "colab": {
          "base_uri": "https://localhost:8080/"
        },
        "id": "0k-N2HsmraWt",
        "outputId": "f463bec4-5257-41af-df24-e7691a322f9d"
      },
      "execution_count": null,
      "outputs": [
        {
          "output_type": "execute_result",
          "data": {
            "text/plain": [
              "True"
            ]
          },
          "metadata": {},
          "execution_count": 31
        }
      ]
    },
    {
      "cell_type": "code",
      "source": [
        "1 != 2  # eşit değildir."
      ],
      "metadata": {
        "colab": {
          "base_uri": "https://localhost:8080/"
        },
        "id": "Mwxznp_PrcEE",
        "outputId": "db09a272-fe46-42b2-ab78-0d2c8b0c3d79"
      },
      "execution_count": null,
      "outputs": [
        {
          "output_type": "execute_result",
          "data": {
            "text/plain": [
              "True"
            ]
          },
          "metadata": {},
          "execution_count": 33
        }
      ]
    },
    {
      "cell_type": "code",
      "source": [
        "twelve = set(\"TWELVE PLUS ONE\")\n",
        "eleven = set(\"ELEVEN PLUS TWO\")"
      ],
      "metadata": {
        "id": "Fc_LXokWrhK_"
      },
      "execution_count": null,
      "outputs": []
    },
    {
      "cell_type": "code",
      "source": [
        "if twelve == eleven:\n",
        "  print(\"We are the same!\")"
      ],
      "metadata": {
        "colab": {
          "base_uri": "https://localhost:8080/"
        },
        "id": "qfL_NmTttPHF",
        "outputId": "f5cc9ce5-71f9-4adb-e420-1d2fdce9c0df"
      },
      "execution_count": null,
      "outputs": [
        {
          "output_type": "stream",
          "name": "stdout",
          "text": [
            "We are the same!\n"
          ]
        }
      ]
    },
    {
      "cell_type": "code",
      "source": [
        "if \"YES\" and \"Yes\" and \"yes\":\n",
        "  print(\"You entered True\")"
      ],
      "metadata": {
        "colab": {
          "base_uri": "https://localhost:8080/"
        },
        "id": "7kMKhlaSta0F",
        "outputId": "7d7030c0-a4af-46c3-d7aa-d78e002d9529"
      },
      "execution_count": null,
      "outputs": [
        {
          "output_type": "stream",
          "name": "stdout",
          "text": [
            "You entered True\n"
          ]
        }
      ]
    },
    {
      "cell_type": "code",
      "source": [
        "convert = input(\"Enter Yes or No:\").title().strip()  == \"Yes\""
      ],
      "metadata": {
        "colab": {
          "base_uri": "https://localhost:8080/"
        },
        "id": "zNdBWSpBwuiY",
        "outputId": "1cc1cf8a-a2e7-453c-939d-320bdc0c0e8d"
      },
      "execution_count": null,
      "outputs": [
        {
          "name": "stdout",
          "output_type": "stream",
          "text": [
            "Enter Yes or No:yes\n"
          ]
        }
      ]
    },
    {
      "cell_type": "code",
      "source": [
        "convert"
      ],
      "metadata": {
        "colab": {
          "base_uri": "https://localhost:8080/"
        },
        "id": "uPOxAZ81xsRx",
        "outputId": "2d63ff25-50ec-48e1-8b50-3fdfb8d6ca6a"
      },
      "execution_count": null,
      "outputs": [
        {
          "output_type": "execute_result",
          "data": {
            "text/plain": [
              "True"
            ]
          },
          "metadata": {},
          "execution_count": 47
        }
      ]
    },
    {
      "cell_type": "code",
      "source": [
        "print(f\"You entered {input('Enter Yes or No:').title().strip()  == 'Yes'}\")"
      ],
      "metadata": {
        "colab": {
          "base_uri": "https://localhost:8080/"
        },
        "id": "S0v-APUTxxqC",
        "outputId": "04ac31f3-111e-40e6-f449-a0cbfc75cc57"
      },
      "execution_count": null,
      "outputs": [
        {
          "output_type": "stream",
          "name": "stdout",
          "text": [
            "Enter Yes or No:yes\n",
            "You entered True\n"
          ]
        }
      ]
    },
    {
      "cell_type": "code",
      "source": [
        "course = \"math\"\n",
        "if course == \"math\":\n",
        "  print(\"You are great\")\n",
        "else:\n",
        "  print(\"not great\")"
      ],
      "metadata": {
        "colab": {
          "base_uri": "https://localhost:8080/"
        },
        "id": "HedEOZn_yjKN",
        "outputId": "062f4d3c-1b8d-46e0-c557-051df2647fab"
      },
      "execution_count": null,
      "outputs": [
        {
          "output_type": "stream",
          "name": "stdout",
          "text": [
            "You are great\n"
          ]
        }
      ]
    },
    {
      "cell_type": "code",
      "source": [
        "course = \"math\"\n",
        "if course == \"not\":\n",
        "  print(\"You are great\")\n",
        "else:\n",
        "  print(\"not great\")"
      ],
      "metadata": {
        "colab": {
          "base_uri": "https://localhost:8080/"
        },
        "id": "2np2k--y0uWV",
        "outputId": "19b2e8fc-6b39-4466-cf76-1963bfae772e"
      },
      "execution_count": null,
      "outputs": [
        {
          "output_type": "stream",
          "name": "stdout",
          "text": [
            "not great\n"
          ]
        }
      ]
    },
    {
      "cell_type": "code",
      "source": [
        "num = int(input(\"Enter a number: \"))\n",
        "if (num % 2) == 0:\n",
        "  print(\"{0} is Even\".format(num))\n",
        "else:\n",
        "  print(\"{0} is Odd\".format(num))"
      ],
      "metadata": {
        "colab": {
          "base_uri": "https://localhost:8080/"
        },
        "id": "eELJNO_02SbG",
        "outputId": "45d66b50-41c9-456a-8508-310444759edb"
      },
      "execution_count": null,
      "outputs": [
        {
          "output_type": "stream",
          "name": "stdout",
          "text": [
            "Enter a number: 5\n",
            "5 is Odd\n"
          ]
        }
      ]
    },
    {
      "cell_type": "code",
      "source": [
        "num = int(input(\"Enter a number: \"))\n",
        "if (num % 2) == 0:\n",
        "  print(\"{0} is Even\".format(num))\n",
        "else:\n",
        "  print(\"{0} is Odd\".format(num))"
      ],
      "metadata": {
        "colab": {
          "base_uri": "https://localhost:8080/"
        },
        "id": "yS6aa29s2-SI",
        "outputId": "fe999fa1-edda-48f1-86ad-565cbb063341"
      },
      "execution_count": null,
      "outputs": [
        {
          "output_type": "stream",
          "name": "stdout",
          "text": [
            "Enter a number: 6\n",
            "6 is Even\n"
          ]
        }
      ]
    },
    {
      "cell_type": "code",
      "source": [
        "num = float(input(\"Enter positive or negative number: \"))\n",
        "if num > 0:\n",
        "  print(\"{0} is Positive\".format(num))\n",
        "else:\n",
        "  print(\"{0} is Negative\".format(num))"
      ],
      "metadata": {
        "colab": {
          "base_uri": "https://localhost:8080/"
        },
        "id": "Tlgaz_6X3BeN",
        "outputId": "c8cc7609-e923-438c-cef2-7f1bb2adc654"
      },
      "execution_count": null,
      "outputs": [
        {
          "output_type": "stream",
          "name": "stdout",
          "text": [
            "Enter positive or negative number: -11\n",
            "-11.0 is Negative\n"
          ]
        }
      ]
    },
    {
      "cell_type": "code",
      "source": [
        "num1 = float(input(\"Enter first number: \"))\n",
        "num2 = float(input(\"Enter second number: \"))\n",
        "\n",
        "if num1 > num2:\n",
        "  larger = num1\n",
        "else:\n",
        "  larger = num2\n",
        "\n",
        "print(\"Larger number is\", larger)"
      ],
      "metadata": {
        "colab": {
          "base_uri": "https://localhost:8080/"
        },
        "id": "GNxknjgc3yYI",
        "outputId": "bb40b15a-5eaf-49d7-d73a-870061e68272"
      },
      "execution_count": null,
      "outputs": [
        {
          "output_type": "stream",
          "name": "stdout",
          "text": [
            "Enter first number: 25\n",
            "Enter second number: 64\n",
            "Larger number is 64.0\n"
          ]
        }
      ]
    },
    {
      "cell_type": "code",
      "source": [
        "num1 = float(input(\"Enter first number: \"))\n",
        "num2 = float(input(\"Enter second number: \"))\n",
        "\n",
        "if num1 > num2:\n",
        "  print(\"The large number is\", num1)\n",
        "else:\n",
        "  print(\"The large number is\", num2)"
      ],
      "metadata": {
        "colab": {
          "base_uri": "https://localhost:8080/"
        },
        "id": "x6ZghrMO5aO_",
        "outputId": "04580290-46bc-4200-ce27-78eac36b6f48"
      },
      "execution_count": null,
      "outputs": [
        {
          "output_type": "stream",
          "name": "stdout",
          "text": [
            "Enter first number: 22\n",
            "Enter second number: 34\n",
            "The large number is 34.0\n"
          ]
        }
      ]
    },
    {
      "cell_type": "code",
      "source": [
        ""
      ],
      "metadata": {
        "id": "fpdsDAYk6_PA"
      },
      "execution_count": null,
      "outputs": []
    }
  ]
}