{
  "nbformat": 4,
  "nbformat_minor": 0,
  "metadata": {
    "colab": {
      "name": "pythonbasic5.ipynb",
      "provenance": [],
      "collapsed_sections": [],
      "authorship_tag": "ABX9TyNZJtVG2s1sutkumD4npkrd",
      "include_colab_link": true
    },
    "kernelspec": {
      "name": "python3",
      "display_name": "Python 3"
    },
    "language_info": {
      "name": "python"
    }
  },
  "cells": [
    {
      "cell_type": "markdown",
      "metadata": {
        "id": "view-in-github",
        "colab_type": "text"
      },
      "source": [
        "<a href=\"https://colab.research.google.com/github/Mithra-py/python_workshop/blob/main/pythonbasic5.ipynb\" target=\"_parent\"><img src=\"https://colab.research.google.com/assets/colab-badge.svg\" alt=\"Open In Colab\"/></a>"
      ]
    },
    {
      "cell_type": "code",
      "execution_count": null,
      "metadata": {
        "colab": {
          "base_uri": "https://localhost:8080/"
        },
        "id": "-r1rpVCjvpHQ",
        "outputId": "408fed12-ad63-4264-9748-13766d685f61"
      },
      "outputs": [
        {
          "output_type": "stream",
          "name": "stdout",
          "text": [
            "ahmetsait\n"
          ]
        }
      ],
      "source": [
        "print(\"ahmet\" + \"sait\")"
      ]
    },
    {
      "cell_type": "code",
      "source": [
        "print(\"ahmet\" * 2)"
      ],
      "metadata": {
        "colab": {
          "base_uri": "https://localhost:8080/"
        },
        "id": "ARTTNRfEvuCH",
        "outputId": "3f6211aa-f3c1-48a1-c3ee-1f07ddca3219"
      },
      "execution_count": null,
      "outputs": [
        {
          "output_type": "stream",
          "name": "stdout",
          "text": [
            "ahmetahmet\n"
          ]
        }
      ]
    },
    {
      "cell_type": "code",
      "source": [
        "print(* \"ahmet\")"
      ],
      "metadata": {
        "colab": {
          "base_uri": "https://localhost:8080/"
        },
        "id": "p3jD_11Gvx8B",
        "outputId": "defe71c5-a401-43e1-d85d-dc40ca185fa1"
      },
      "execution_count": null,
      "outputs": [
        {
          "output_type": "stream",
          "name": "stdout",
          "text": [
            "a h m e t\n"
          ]
        }
      ]
    },
    {
      "cell_type": "code",
      "source": [
        "print(* \"ı am hungry\")\n",
        "print(* \"121\")"
      ],
      "metadata": {
        "colab": {
          "base_uri": "https://localhost:8080/"
        },
        "id": "olyTYsLIv1L1",
        "outputId": "c0adafc9-5535-4cb8-fd36-85b999558547"
      },
      "execution_count": null,
      "outputs": [
        {
          "output_type": "stream",
          "name": "stdout",
          "text": [
            "ı   a m   h u n g r y\n",
            "1 2 1\n"
          ]
        }
      ]
    },
    {
      "cell_type": "code",
      "source": [
        "print(\"python\" + \"workshop\" * 2 )"
      ],
      "metadata": {
        "id": "THt4d_0_wB1Y",
        "colab": {
          "base_uri": "https://localhost:8080/"
        },
        "outputId": "b393571d-6fa3-4c5f-8eb0-984802d9c18a"
      },
      "execution_count": null,
      "outputs": [
        {
          "output_type": "stream",
          "name": "stdout",
          "text": [
            "pythonworkshopworkshop\n"
          ]
        }
      ]
    },
    {
      "cell_type": "code",
      "source": [
        "print((\"python\" + \"workshop\") * 2 )"
      ],
      "metadata": {
        "colab": {
          "base_uri": "https://localhost:8080/"
        },
        "id": "sUQZsIuD4mRP",
        "outputId": "e783d6b6-8461-4281-a7f3-cc48af1ecbb8"
      },
      "execution_count": null,
      "outputs": [
        {
          "output_type": "stream",
          "name": "stdout",
          "text": [
            "pythonworkshoppythonworkshop\n"
          ]
        }
      ]
    },
    {
      "cell_type": "code",
      "source": [
        "print(str((5 + 6) ** 2) + \"121\")"
      ],
      "metadata": {
        "colab": {
          "base_uri": "https://localhost:8080/"
        },
        "id": "2rSemQbS5ggo",
        "outputId": "a320de7e-47a9-4dc6-b009-60dc3af14c2b"
      },
      "execution_count": null,
      "outputs": [
        {
          "output_type": "stream",
          "name": "stdout",
          "text": [
            "121121\n"
          ]
        }
      ]
    },
    {
      "cell_type": "code",
      "source": [
        "sonuc = str((5 + 6) ** 2) + \"121\"\n",
        "sonuc"
      ],
      "metadata": {
        "colab": {
          "base_uri": "https://localhost:8080/",
          "height": 35
        },
        "id": "b2wuaUVQ6Lrk",
        "outputId": "830fcecd-dba2-4f3b-ee5b-ba0d8c02843f"
      },
      "execution_count": null,
      "outputs": [
        {
          "output_type": "execute_result",
          "data": {
            "text/plain": [
              "'121121'"
            ],
            "application/vnd.google.colaboratory.intrinsic+json": {
              "type": "string"
            }
          },
          "metadata": {},
          "execution_count": 17
        }
      ]
    },
    {
      "cell_type": "code",
      "source": [
        "sonuc = (sonuc + sonuc) * 2\n",
        "sonuc"
      ],
      "metadata": {
        "colab": {
          "base_uri": "https://localhost:8080/",
          "height": 35
        },
        "id": "yul6TnLM6zzC",
        "outputId": "1e7a75a9-ff21-4081-8ab7-4a7ec241b38a"
      },
      "execution_count": null,
      "outputs": [
        {
          "output_type": "execute_result",
          "data": {
            "text/plain": [
              "'121121121121121121121121'"
            ],
            "application/vnd.google.colaboratory.intrinsic+json": {
              "type": "string"
            }
          },
          "metadata": {},
          "execution_count": 18
        }
      ]
    },
    {
      "cell_type": "code",
      "source": [
        "x = 'ab'"
      ],
      "metadata": {
        "id": "qOJIN14962vo"
      },
      "execution_count": null,
      "outputs": []
    },
    {
      "cell_type": "code",
      "source": [
        "x += 'c'\n",
        "x"
      ],
      "metadata": {
        "colab": {
          "base_uri": "https://localhost:8080/",
          "height": 35
        },
        "id": "4-Ab659N85oW",
        "outputId": "547c5acc-bce3-40b3-e1bd-73e0240b9883"
      },
      "execution_count": null,
      "outputs": [
        {
          "output_type": "execute_result",
          "data": {
            "text/plain": [
              "'abc'"
            ],
            "application/vnd.google.colaboratory.intrinsic+json": {
              "type": "string"
            }
          },
          "metadata": {},
          "execution_count": 22
        }
      ]
    },
    {
      "cell_type": "code",
      "source": [
        "# .format"
      ],
      "metadata": {
        "id": "4lDxhMV1BQJN"
      },
      "execution_count": null,
      "outputs": []
    },
    {
      "cell_type": "code",
      "source": [
        "'metodlar'.format()"
      ],
      "metadata": {
        "colab": {
          "base_uri": "https://localhost:8080/",
          "height": 35
        },
        "id": "QHF1pDao8-ub",
        "outputId": "63e67bea-2a60-4760-f105-53bb8003b412"
      },
      "execution_count": null,
      "outputs": [
        {
          "output_type": "execute_result",
          "data": {
            "text/plain": [
              "'metodlar'"
            ],
            "application/vnd.google.colaboratory.intrinsic+json": {
              "type": "string"
            }
          },
          "metadata": {},
          "execution_count": 23
        }
      ]
    },
    {
      "cell_type": "code",
      "source": [
        "ders = \"python\"\n",
        "zaman = \"sabah\""
      ],
      "metadata": {
        "id": "-FICIB_p-Q5s"
      },
      "execution_count": null,
      "outputs": []
    },
    {
      "cell_type": "code",
      "source": [
        "\"bugün {} dersi için {} uyandım\" .format(ders, zaman)"
      ],
      "metadata": {
        "colab": {
          "base_uri": "https://localhost:8080/",
          "height": 35
        },
        "id": "MYicaK7J95qX",
        "outputId": "057d46bc-17b0-4b29-e218-a967e613fa89"
      },
      "execution_count": null,
      "outputs": [
        {
          "output_type": "execute_result",
          "data": {
            "text/plain": [
              "'bugün python dersi için sabah uyandım'"
            ],
            "application/vnd.google.colaboratory.intrinsic+json": {
              "type": "string"
            }
          },
          "metadata": {},
          "execution_count": 30
        }
      ]
    },
    {
      "cell_type": "code",
      "source": [
        "\"bugün {} dersi için {} uyandım\" .format(\"ıtf\", \"öğlen\")"
      ],
      "metadata": {
        "colab": {
          "base_uri": "https://localhost:8080/",
          "height": 35
        },
        "id": "FHQiGTOn-cHR",
        "outputId": "1511ce4c-71ed-4c70-f059-fcdc6628ad97"
      },
      "execution_count": null,
      "outputs": [
        {
          "output_type": "execute_result",
          "data": {
            "text/plain": [
              "'bugün ıtf dersi için öğlen uyandım'"
            ],
            "application/vnd.google.colaboratory.intrinsic+json": {
              "type": "string"
            }
          },
          "metadata": {},
          "execution_count": 32
        }
      ]
    },
    {
      "cell_type": "code",
      "source": [
        "\"bugün {ders} dersi için {zaman} uyandım\" .format(zaman = \"sabah\", ders = \"python\")"
      ],
      "metadata": {
        "colab": {
          "base_uri": "https://localhost:8080/",
          "height": 35
        },
        "id": "DUyo0_LN_bTJ",
        "outputId": "3a0b7c9d-8799-4eb0-e50a-06dc33e64cd0"
      },
      "execution_count": null,
      "outputs": [
        {
          "output_type": "execute_result",
          "data": {
            "text/plain": [
              "'bugün python dersi için sabah uyandım'"
            ],
            "application/vnd.google.colaboratory.intrinsic+json": {
              "type": "string"
            }
          },
          "metadata": {},
          "execution_count": 37
        }
      ]
    },
    {
      "cell_type": "code",
      "source": [
        "print(\"{1} {2} {0}\" .format(\"ünlü\", \"ahmet\", \"sait\"))"
      ],
      "metadata": {
        "colab": {
          "base_uri": "https://localhost:8080/"
        },
        "id": "0YDPYqkFARdt",
        "outputId": "73194526-e552-404d-b8b4-64b41e8449ad"
      },
      "execution_count": null,
      "outputs": [
        {
          "output_type": "stream",
          "name": "stdout",
          "text": [
            "ahmet sait ünlü\n"
          ]
        }
      ]
    },
    {
      "cell_type": "code",
      "source": [
        "# String formatting for f-string \n",
        "# f'string{variable1} string{variable2} string"
      ],
      "metadata": {
        "id": "EAD6-57bBvNn"
      },
      "execution_count": null,
      "outputs": []
    },
    {
      "cell_type": "code",
      "source": [
        "fruit = \"orange\"\n",
        "vegetable = \"tomato\"\n",
        "amount = 6\n",
        "output = f'the amount of {fruit} and {vegetable} we bought are totally {amount} pounds'\n",
        "print(output)"
      ],
      "metadata": {
        "colab": {
          "base_uri": "https://localhost:8080/"
        },
        "id": "30_uioHsFnCt",
        "outputId": "cd4c16cf-7939-4fd0-a766-0ca63a363e68"
      },
      "execution_count": null,
      "outputs": [
        {
          "output_type": "stream",
          "name": "stdout",
          "text": [
            "the amount of orange and tomato we bought are totally 6 pounds\n"
          ]
        }
      ]
    },
    {
      "cell_type": "code",
      "source": [
        "sample = f\"{2 ** 3}\"\n",
        "print(sample)"
      ],
      "metadata": {
        "colab": {
          "base_uri": "https://localhost:8080/"
        },
        "id": "bt_pWduhHSnC",
        "outputId": "591d2b69-6f48-4eea-9bc9-9e8aa71767e8"
      },
      "execution_count": null,
      "outputs": [
        {
          "output_type": "stream",
          "name": "stdout",
          "text": [
            "8\n"
          ]
        }
      ]
    },
    {
      "cell_type": "code",
      "source": [
        "text = f\"{str(11) + '11'}\"\n",
        "print(text)"
      ],
      "metadata": {
        "colab": {
          "base_uri": "https://localhost:8080/"
        },
        "id": "ymHui_xkHmlc",
        "outputId": "98401e07-8113-49f7-9d50-2213eb078de7"
      },
      "execution_count": null,
      "outputs": [
        {
          "output_type": "stream",
          "name": "stdout",
          "text": [
            "1111\n"
          ]
        }
      ]
    },
    {
      "cell_type": "code",
      "source": [
        "text= f\"ali veli {'seli' .replace('s', 'd')}\"\n",
        "print(text)"
      ],
      "metadata": {
        "colab": {
          "base_uri": "https://localhost:8080/"
        },
        "id": "a-8mJo7aIJ6G",
        "outputId": "cace7c47-413b-4e8d-971e-35c1d5a58de1"
      },
      "execution_count": null,
      "outputs": [
        {
          "output_type": "stream",
          "name": "stdout",
          "text": [
            "ali veli deli\n"
          ]
        }
      ]
    },
    {
      "cell_type": "code",
      "source": [
        "name = 'MARIAM'\n",
        "text= f\"my name is {name.capitalize()}\"\n",
        "print(text)"
      ],
      "metadata": {
        "colab": {
          "base_uri": "https://localhost:8080/"
        },
        "id": "p6C1wfj5IqDN",
        "outputId": "03a2c481-16bc-424d-a462-5c269e3a4f7e"
      },
      "execution_count": null,
      "outputs": [
        {
          "output_type": "stream",
          "name": "stdout",
          "text": [
            "my name is Mariam\n"
          ]
        }
      ]
    },
    {
      "cell_type": "code",
      "source": [
        "print(\"kodumuzu alt satıra geçirip\\\n",
        " böyle normal şekilde\\\n",
        " gösterebiliriz\")"
      ],
      "metadata": {
        "colab": {
          "base_uri": "https://localhost:8080/"
        },
        "id": "shQCsMbLKB7i",
        "outputId": "b5c0c67a-531f-494f-920d-dd718e8d064d"
      },
      "execution_count": null,
      "outputs": [
        {
          "output_type": "stream",
          "name": "stdout",
          "text": [
            "kodumuzu alt satıra geçirip böyle normal şekilde gösterebiliriz\n"
          ]
        }
      ]
    },
    {
      "cell_type": "code",
      "source": [
        "name = \"ahmet\"\n",
        "job = \"teachers\"\n",
        "domain = \"school\"\n",
        "message = f\"Hi {name}. \"\\\n",
        "f\"You are one of the {job} \"\\\n",
        "f\"in the {domain} section.\"\n",
        "print(message)"
      ],
      "metadata": {
        "colab": {
          "base_uri": "https://localhost:8080/"
        },
        "id": "bwVnnXMIOMQn",
        "outputId": "460bd1e2-dc70-4396-9a56-0c5402d41bb9"
      },
      "execution_count": null,
      "outputs": [
        {
          "output_type": "stream",
          "name": "stdout",
          "text": [
            "Hi ahmet. You are one of the teachers in the school section.\n"
          ]
        }
      ]
    },
    {
      "cell_type": "code",
      "source": [
        "para = 100\n",
        "para += para * 0.07\n",
        "para  # 1 günlük artış"
      ],
      "metadata": {
        "colab": {
          "base_uri": "https://localhost:8080/"
        },
        "id": "W3_yk7lfRf0r",
        "outputId": "ee148d9c-1f17-41e6-c8bd-4d380b4c6139"
      },
      "execution_count": null,
      "outputs": [
        {
          "output_type": "execute_result",
          "data": {
            "text/plain": [
              "107.0"
            ]
          },
          "metadata": {},
          "execution_count": 88
        }
      ]
    },
    {
      "cell_type": "code",
      "source": [
        "para += para * 0.07\n",
        "para  # 1 günlük artış"
      ],
      "metadata": {
        "colab": {
          "base_uri": "https://localhost:8080/"
        },
        "id": "dM0KiEHkVgTV",
        "outputId": "42509b09-0e28-4922-e8f6-c3a88985bcd9"
      },
      "execution_count": null,
      "outputs": [
        {
          "output_type": "execute_result",
          "data": {
            "text/plain": [
              "114.49"
            ]
          },
          "metadata": {},
          "execution_count": 89
        }
      ]
    },
    {
      "cell_type": "code",
      "source": [
        "para = 100\n",
        "para = para * 1.07  ** 7\n",
        "para  # 1 haftalık artışı bulduk"
      ],
      "metadata": {
        "colab": {
          "base_uri": "https://localhost:8080/"
        },
        "id": "AX3oW_ihUnMr",
        "outputId": "71d91dcd-faad-46cd-9ac9-6df92651d5b8"
      },
      "execution_count": null,
      "outputs": [
        {
          "output_type": "execute_result",
          "data": {
            "text/plain": [
              "160.57814764784305"
            ]
          },
          "metadata": {},
          "execution_count": 87
        }
      ]
    },
    {
      "cell_type": "code",
      "source": [
        ""
      ],
      "metadata": {
        "id": "IywHA_3JVnk0"
      },
      "execution_count": null,
      "outputs": []
    }
  ]
}