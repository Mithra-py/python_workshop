{
  "nbformat": 4,
  "nbformat_minor": 0,
  "metadata": {
    "colab": {
      "name": "Pythonbasic13.ipynb",
      "provenance": [],
      "collapsed_sections": [],
      "authorship_tag": "ABX9TyO7tupqqsn95mobDQiZm4wa",
      "include_colab_link": true
    },
    "kernelspec": {
      "name": "python3",
      "display_name": "Python 3"
    },
    "language_info": {
      "name": "python"
    }
  },
  "cells": [
    {
      "cell_type": "markdown",
      "metadata": {
        "id": "view-in-github",
        "colab_type": "text"
      },
      "source": [
        "<a href=\"https://colab.research.google.com/github/Mithra-py/python_workshop/blob/main/Pythonbasic13.ipynb\" target=\"_parent\"><img src=\"https://colab.research.google.com/assets/colab-badge.svg\" alt=\"Open In Colab\"/></a>"
      ]
    },
    {
      "cell_type": "code",
      "execution_count": null,
      "metadata": {
        "colab": {
          "base_uri": "https://localhost:8080/"
        },
        "id": "F6Oj9bOfPxlu",
        "outputId": "60dd81bf-6562-4596-8b09-efe053833696"
      },
      "outputs": [
        {
          "output_type": "stream",
          "name": "stdout",
          "text": [
            "1\n",
            "2\n",
            "3\n",
            "4\n",
            "5\n"
          ]
        }
      ],
      "source": [
        "for i in [1, 2, 3, 4, 5]:\n",
        "  print(i)"
      ]
    },
    {
      "cell_type": "code",
      "source": [
        "for i in range(6):\n",
        "  print(i)"
      ],
      "metadata": {
        "colab": {
          "base_uri": "https://localhost:8080/"
        },
        "id": "SbW3EfDLep7E",
        "outputId": "0dbf7b5a-83e0-4f2e-89f2-14bed30dce99"
      },
      "execution_count": null,
      "outputs": [
        {
          "output_type": "stream",
          "name": "stdout",
          "text": [
            "0\n",
            "1\n",
            "2\n",
            "3\n",
            "4\n",
            "5\n"
          ]
        }
      ]
    },
    {
      "cell_type": "code",
      "source": [
        "for i in [\"happy\"]:\n",
        "  print(i)"
      ],
      "metadata": {
        "colab": {
          "base_uri": "https://localhost:8080/"
        },
        "id": "ebiwpPdtcgeO",
        "outputId": "80885c5b-82f4-414a-af79-e1a93b42ef72"
      },
      "execution_count": null,
      "outputs": [
        {
          "output_type": "stream",
          "name": "stdout",
          "text": [
            "happy\n"
          ]
        }
      ]
    },
    {
      "cell_type": "code",
      "source": [
        "seasons = \"autumn\", \"summer\", \"winter\", \"spring\"\n",
        "\n",
        "for season in seasons:\n",
        "  print(season)"
      ],
      "metadata": {
        "colab": {
          "base_uri": "https://localhost:8080/"
        },
        "id": "f7v_L620eEpo",
        "outputId": "8faa6346-fee5-4ce3-a7f6-9cf5eb3046db"
      },
      "execution_count": null,
      "outputs": [
        {
          "output_type": "stream",
          "name": "stdout",
          "text": [
            "autumn\n",
            "summer\n",
            "winter\n",
            "spring\n"
          ]
        }
      ]
    },
    {
      "cell_type": "code",
      "source": [
        "for i in range(11):\n",
        "  print(i, end = \" \")"
      ],
      "metadata": {
        "colab": {
          "base_uri": "https://localhost:8080/"
        },
        "id": "0HeKL0AgetXc",
        "outputId": "1f71e565-189c-4c13-dd88-badd6c043528"
      },
      "execution_count": null,
      "outputs": [
        {
          "output_type": "stream",
          "name": "stdout",
          "text": [
            "0 1 2 3 4 5 6 7 8 9 10 "
          ]
        }
      ]
    },
    {
      "cell_type": "code",
      "source": [
        "names= \"Ahmet\", \"Mehmet\", \"Ramazan\", \"Erdem\"\n",
        "\n",
        "for name in names:\n",
        "  print(\"Hello\", name)"
      ],
      "metadata": {
        "colab": {
          "base_uri": "https://localhost:8080/"
        },
        "id": "mE2xvJmOgRmu",
        "outputId": "a170ec5a-0d5c-4345-ed97-ae4923e1834d"
      },
      "execution_count": null,
      "outputs": [
        {
          "output_type": "stream",
          "name": "stdout",
          "text": [
            "Hello Ahmet\n",
            "Hello Mehmet\n",
            "Hello Ramazan\n",
            "Hello Erdem\n"
          ]
        }
      ]
    },
    {
      "cell_type": "code",
      "source": [
        "numbers = []\n",
        "\n",
        "for i in range(1, 6):\n",
        "  numbers.append(i)\n",
        "print(numbers)"
      ],
      "metadata": {
        "colab": {
          "base_uri": "https://localhost:8080/"
        },
        "id": "GuoCk9u7hHof",
        "outputId": "d518915c-08e7-4e01-8158-44f23be686bd"
      },
      "execution_count": null,
      "outputs": [
        {
          "output_type": "stream",
          "name": "stdout",
          "text": [
            "[1, 2, 3, 4, 5]\n"
          ]
        }
      ]
    },
    {
      "cell_type": "code",
      "source": [
        "course = 'matematik'\n",
        "\n",
        "for i in course:\n",
        "  print(i, end = \" \")"
      ],
      "metadata": {
        "colab": {
          "base_uri": "https://localhost:8080/"
        },
        "id": "WfmQUqwdh5fw",
        "outputId": "08d7be3f-7ec8-4a7d-c161-927fa095e374"
      },
      "execution_count": null,
      "outputs": [
        {
          "output_type": "stream",
          "name": "stdout",
          "text": [
            "m a t e m a t i k "
          ]
        }
      ]
    },
    {
      "cell_type": "code",
      "source": [
        "for i in course:\n",
        "  print(i, end = \"-\")"
      ],
      "metadata": {
        "colab": {
          "base_uri": "https://localhost:8080/"
        },
        "id": "Oe7d3vPGjePr",
        "outputId": "02641155-0e3b-4c8e-b69b-8421c3fce8eb"
      },
      "execution_count": null,
      "outputs": [
        {
          "output_type": "stream",
          "name": "stdout",
          "text": [
            "m-a-t-e-m-a-t-i-k-"
          ]
        }
      ]
    },
    {
      "cell_type": "code",
      "source": [
        "word = input(\"Give me a word: \")\n",
        "counter = 0\n",
        "\n",
        "for i in word:\n",
        "  counter += 1\n",
        "  if counter < len(word):\n",
        "    i = i + \"-\"\n",
        "  print(i, end = \"\")"
      ],
      "metadata": {
        "colab": {
          "base_uri": "https://localhost:8080/"
        },
        "id": "uynoTyM6juJg",
        "outputId": "ab241eab-1b8d-4c57-9463-2b832acdf4c5"
      },
      "execution_count": null,
      "outputs": [
        {
          "output_type": "stream",
          "name": "stdout",
          "text": [
            "Give me a word: matematik\n",
            "m-a-t-e-m-a-t-i-k"
          ]
        }
      ]
    },
    {
      "cell_type": "code",
      "source": [
        "user = {\n",
        "    \"name\" : \"Ahmet\",\n",
        "    \"surname\" : \"Sait\",\n",
        "    \"age\" : 23\n",
        "}\n",
        "for kimlik in user:\n",
        "  print(kimlik)"
      ],
      "metadata": {
        "colab": {
          "base_uri": "https://localhost:8080/"
        },
        "id": "_xYavYG7lBRH",
        "outputId": "82f97053-52c7-42c0-d391-cb3171f7aed4"
      },
      "execution_count": null,
      "outputs": [
        {
          "output_type": "stream",
          "name": "stdout",
          "text": [
            "name\n",
            "surname\n",
            "age\n"
          ]
        }
      ]
    },
    {
      "cell_type": "code",
      "source": [
        "user = {\n",
        "    \"name\" : \"Ahmet\",\n",
        "    \"surname\" : \"Sait\",\n",
        "    \"age\" : 23\n",
        "}\n",
        "for kimlik in user.values():\n",
        "  print(kimlik, end = \" \")"
      ],
      "metadata": {
        "colab": {
          "base_uri": "https://localhost:8080/"
        },
        "id": "IhSgG5KdnYoL",
        "outputId": "3da720ea-871f-47ca-8384-40f469bc8c1e"
      },
      "execution_count": null,
      "outputs": [
        {
          "output_type": "stream",
          "name": "stdout",
          "text": [
            "Ahmet Sait 23 "
          ]
        }
      ]
    },
    {
      "cell_type": "code",
      "source": [
        "user = {\n",
        "    \"name\" : \"Ahmet\",\n",
        "    \"surname\" : \"Sait\",\n",
        "    \"age\" : 23\n",
        "}\n",
        "for key, value in user.items():\n",
        "  print(key, \":\", value)"
      ],
      "metadata": {
        "colab": {
          "base_uri": "https://localhost:8080/"
        },
        "id": "Xi2ZBvnwnqYQ",
        "outputId": "cff20e47-d7f7-4092-cf3d-2d7cc0787a60"
      },
      "execution_count": null,
      "outputs": [
        {
          "output_type": "stream",
          "name": "stdout",
          "text": [
            "name : Ahmet\n",
            "surname : Sait\n",
            "age : 23\n"
          ]
        }
      ]
    },
    {
      "cell_type": "code",
      "source": [
        "test = [(1, 2), (3, 4), (5, 6)]\n",
        "\n",
        "for i, j in test:\n",
        "  print(i, j)"
      ],
      "metadata": {
        "colab": {
          "base_uri": "https://localhost:8080/"
        },
        "id": "xq843zS9oMwc",
        "outputId": "238bc272-d817-43ea-8ecf-a4d3e8c433c4"
      },
      "execution_count": null,
      "outputs": [
        {
          "output_type": "stream",
          "name": "stdout",
          "text": [
            "1 2\n",
            "3 4\n",
            "5 6\n"
          ]
        }
      ]
    },
    {
      "cell_type": "code",
      "source": [
        "times = int(input(\"How many times should ı say 'I love you'\"))\n",
        "\n",
        "for i in range(times):\n",
        "  print('I love you')"
      ],
      "metadata": {
        "colab": {
          "base_uri": "https://localhost:8080/"
        },
        "id": "-CABsmjjowlq",
        "outputId": "83693142-d1de-4998-8b60-996c4ce6d11f"
      },
      "execution_count": null,
      "outputs": [
        {
          "output_type": "stream",
          "name": "stdout",
          "text": [
            "How many times should ı say 'I love you'5\n",
            "I love you\n",
            "I love you\n",
            "I love you\n",
            "I love you\n",
            "I love you\n"
          ]
        }
      ]
    },
    {
      "cell_type": "code",
      "source": [
        "number = int(input(\"Enter a number between 1-10: \"))\n",
        "\n",
        "for i in range(11):\n",
        "  print(\"{}x{} = \".format(number, i), number * i)"
      ],
      "metadata": {
        "colab": {
          "base_uri": "https://localhost:8080/"
        },
        "id": "tUWsvzszrptF",
        "outputId": "6d6ad310-495c-4c86-9d2e-7449fca633d5"
      },
      "execution_count": null,
      "outputs": [
        {
          "output_type": "stream",
          "name": "stdout",
          "text": [
            "Enter a number between 1-10: 7\n",
            "7x0 =  0\n",
            "7x1 =  7\n",
            "7x2 =  14\n",
            "7x3 =  21\n",
            "7x4 =  28\n",
            "7x5 =  35\n",
            "7x6 =  42\n",
            "7x7 =  49\n",
            "7x8 =  56\n",
            "7x9 =  63\n",
            "7x10 =  70\n"
          ]
        }
      ]
    },
    {
      "cell_type": "code",
      "source": [
        "for i in range(1, 10):\n",
        "  print (str(i) * i)"
      ],
      "metadata": {
        "colab": {
          "base_uri": "https://localhost:8080/"
        },
        "id": "ItwNwCbysLxZ",
        "outputId": "6c329a42-caff-44a3-83f4-4c70d0d31077"
      },
      "execution_count": null,
      "outputs": [
        {
          "output_type": "stream",
          "name": "stdout",
          "text": [
            "1\n",
            "22\n",
            "333\n",
            "4444\n",
            "55555\n",
            "666666\n",
            "7777777\n",
            "88888888\n",
            "999999999\n"
          ]
        }
      ]
    },
    {
      "cell_type": "code",
      "source": [
        "print(range(5))"
      ],
      "metadata": {
        "colab": {
          "base_uri": "https://localhost:8080/"
        },
        "id": "t8hDRtvXvIJU",
        "outputId": "793b4d19-d642-437f-bc33-a1aed71f2ed6"
      },
      "execution_count": null,
      "outputs": [
        {
          "output_type": "stream",
          "name": "stdout",
          "text": [
            "range(0, 5)\n"
          ]
        }
      ]
    },
    {
      "cell_type": "code",
      "source": [
        "print(*range(5))"
      ],
      "metadata": {
        "colab": {
          "base_uri": "https://localhost:8080/"
        },
        "id": "ZJrMZj2RwhMG",
        "outputId": "647da2b1-6132-43df-e318-a2fd11ab0bc3"
      },
      "execution_count": null,
      "outputs": [
        {
          "output_type": "stream",
          "name": "stdout",
          "text": [
            "0 1 2 3 4\n"
          ]
        }
      ]
    },
    {
      "cell_type": "code",
      "source": [
        "print(*range(5, 25, 2))"
      ],
      "metadata": {
        "colab": {
          "base_uri": "https://localhost:8080/"
        },
        "id": "-9KdHZcGwnvY",
        "outputId": "556e1024-b89b-4e02-88cd-0120079d31d4"
      },
      "execution_count": null,
      "outputs": [
        {
          "output_type": "stream",
          "name": "stdout",
          "text": [
            "5 7 9 11 13 15 17 19 21 23\n"
          ]
        }
      ]
    },
    {
      "cell_type": "code",
      "source": [
        "print(*range(10, 1, -1))"
      ],
      "metadata": {
        "colab": {
          "base_uri": "https://localhost:8080/"
        },
        "id": "jj2SAjnCwyff",
        "outputId": "715aa463-5f45-4b3b-ac93-0a423c6e6348"
      },
      "execution_count": null,
      "outputs": [
        {
          "output_type": "stream",
          "name": "stdout",
          "text": [
            "10 9 8 7 6 5 4 3 2\n"
          ]
        }
      ]
    },
    {
      "cell_type": "code",
      "source": [
        "print(*\"bilgisayar\")"
      ],
      "metadata": {
        "colab": {
          "base_uri": "https://localhost:8080/"
        },
        "id": "KmY8nUqixgIc",
        "outputId": "a9be4cbc-d2d3-455e-a60b-4c3a1b2ae164"
      },
      "execution_count": null,
      "outputs": [
        {
          "output_type": "stream",
          "name": "stdout",
          "text": [
            "b i l g i s a y a r\n"
          ]
        }
      ]
    },
    {
      "cell_type": "code",
      "source": [
        "text = (\"one\", \"two\", \"three\", \"four\")\n",
        "numbers = (1, 2, 3, 4)\n",
        "\n",
        "for x, y in zip(text, numbers):\n",
        "  print(x, \":\", y)"
      ],
      "metadata": {
        "colab": {
          "base_uri": "https://localhost:8080/"
        },
        "id": "Q_T7x38TxsbZ",
        "outputId": "ab3a3f99-522a-45bd-d007-6e3302c46853"
      },
      "execution_count": null,
      "outputs": [
        {
          "output_type": "stream",
          "name": "stdout",
          "text": [
            "one : 1\n",
            "two : 2\n",
            "three : 3\n",
            "four : 4\n"
          ]
        }
      ]
    },
    {
      "cell_type": "code",
      "source": [
        "text = (\"one\", \"two\", \"three\", \"four\")\n",
        "numbers = (1, 2, 3, 4)\n",
        "zipped = zip(text, numbers)"
      ],
      "metadata": {
        "id": "yG3UdBayyb2b"
      },
      "execution_count": null,
      "outputs": []
    },
    {
      "cell_type": "code",
      "source": [
        "zipped"
      ],
      "metadata": {
        "colab": {
          "base_uri": "https://localhost:8080/"
        },
        "id": "hvAjNaNJy2X7",
        "outputId": "5e2ed196-d380-4d9f-d155-68a80ef1fda9"
      },
      "execution_count": null,
      "outputs": [
        {
          "output_type": "execute_result",
          "data": {
            "text/plain": [
              "<zip at 0x7f8f2ecb8e10>"
            ]
          },
          "metadata": {},
          "execution_count": 50
        }
      ]
    },
    {
      "cell_type": "code",
      "source": [
        "print(* zipped)"
      ],
      "metadata": {
        "colab": {
          "base_uri": "https://localhost:8080/"
        },
        "id": "uXqgIAQ0y3JN",
        "outputId": "dd17c0c4-104c-4e47-ba35-f6d382d58ecd"
      },
      "execution_count": null,
      "outputs": [
        {
          "output_type": "stream",
          "name": "stdout",
          "text": [
            "('one', 1) ('two', 2) ('three', 3) ('four', 4)\n"
          ]
        }
      ]
    },
    {
      "cell_type": "code",
      "source": [
        "evens = []\n",
        "odds = []\n",
        "\n",
        "for n in range(10):\n",
        "  \n",
        "  if n % 2 == 0:\n",
        "    evens.append(n)\n",
        "  else:\n",
        "    odds.append(n)\n",
        "\n",
        "print(\"evens : \", evens)\n",
        "print(\"odds : \", odds)"
      ],
      "metadata": {
        "colab": {
          "base_uri": "https://localhost:8080/"
        },
        "id": "uFRBNdVozOUc",
        "outputId": "87207b62-94eb-41a4-f8ca-f35a7b6ae61d"
      },
      "execution_count": null,
      "outputs": [
        {
          "output_type": "stream",
          "name": "stdout",
          "text": [
            "evens :  [0, 2, 4, 6, 8]\n",
            "odds :  [1, 3, 5, 7, 9]\n"
          ]
        }
      ]
    },
    {
      "cell_type": "code",
      "source": [
        "numbers = (11, 23, 14, 16, 29, 38, 42, 15, 33)"
      ],
      "metadata": {
        "id": "Ffwo3SlF0yiA"
      },
      "execution_count": null,
      "outputs": []
    },
    {
      "cell_type": "code",
      "source": [
        "odds = 0\n",
        "evens = 0\n",
        "\n",
        "for i in numbers:\n",
        "\n",
        "  if i % 2 == 0:\n",
        "    evens += 1\n",
        "  else:\n",
        "    odds += 1\n",
        "\n",
        "print(\"evens count: \", evens)\n",
        "print(\"odds count: \", odds)"
      ],
      "metadata": {
        "colab": {
          "base_uri": "https://localhost:8080/"
        },
        "id": "i--FBG5u1MPB",
        "outputId": "911dbfd5-3a61-4a6a-c597-de53d945a831"
      },
      "execution_count": null,
      "outputs": [
        {
          "output_type": "stream",
          "name": "stdout",
          "text": [
            "evens count:  4\n",
            "odds count:  5\n"
          ]
        }
      ]
    },
    {
      "cell_type": "code",
      "source": [
        ""
      ],
      "metadata": {
        "id": "jOTWswGC1n7B"
      },
      "execution_count": null,
      "outputs": []
    }
  ]
}