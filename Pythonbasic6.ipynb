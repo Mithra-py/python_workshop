{
  "nbformat": 4,
  "nbformat_minor": 0,
  "metadata": {
    "colab": {
      "name": "Pythonbasic6.ipynb",
      "provenance": [],
      "authorship_tag": "ABX9TyOpG0AYND7KYleKMg9I+QF0",
      "include_colab_link": true
    },
    "kernelspec": {
      "name": "python3",
      "display_name": "Python 3"
    },
    "language_info": {
      "name": "python"
    }
  },
  "cells": [
    {
      "cell_type": "markdown",
      "metadata": {
        "id": "view-in-github",
        "colab_type": "text"
      },
      "source": [
        "<a href=\"https://colab.research.google.com/github/Mithra-py/python_workshop/blob/main/Pythonbasic6.ipynb\" target=\"_parent\"><img src=\"https://colab.research.google.com/assets/colab-badge.svg\" alt=\"Open In Colab\"/></a>"
      ]
    },
    {
      "cell_type": "code",
      "execution_count": null,
      "metadata": {
        "colab": {
          "base_uri": "https://localhost:8080/"
        },
        "id": "4wDW6-qfWame",
        "outputId": "ad357fb1-9942-4266-abb8-691bcdae117d"
      },
      "outputs": [
        {
          "output_type": "stream",
          "name": "stdout",
          "text": [
            "sot\n"
          ]
        }
      ],
      "source": [
        "var_string = 'SoT'\n",
        "print(var_string.lower())"
      ]
    },
    {
      "cell_type": "code",
      "source": [
        "var_str = 'In God we Trust'\n",
        "var_str.lower()\n",
        "print(var_str)"
      ],
      "metadata": {
        "colab": {
          "base_uri": "https://localhost:8080/"
        },
        "id": "UbqmWXO8af0E",
        "outputId": "d3e26a92-5e39-44ae-b680-a1cb06dc7fb2"
      },
      "execution_count": null,
      "outputs": [
        {
          "output_type": "stream",
          "name": "stdout",
          "text": [
            "In God we Trust\n"
          ]
        }
      ]
    },
    {
      "cell_type": "code",
      "source": [
        "var_str = 'In God we Trust'\n",
        "var_str.lower()\n",
        "print(var_str.lower())"
      ],
      "metadata": {
        "colab": {
          "base_uri": "https://localhost:8080/"
        },
        "id": "AXOh3Y9NbFi2",
        "outputId": "0b3a2c70-27dd-4d0f-cf51-6fc3da01e17e"
      },
      "execution_count": null,
      "outputs": [
        {
          "output_type": "stream",
          "name": "stdout",
          "text": [
            "in god we trust\n"
          ]
        }
      ]
    },
    {
      "cell_type": "code",
      "source": [
        "text = 'beginning'\n",
        "print(text.startswith('beg'))\n",
        "print(text.endswith('ing'))"
      ],
      "metadata": {
        "colab": {
          "base_uri": "https://localhost:8080/"
        },
        "id": "soEgxPfQbOPV",
        "outputId": "322fed2e-8fc0-4abe-ae35-459fa944ba11"
      },
      "execution_count": null,
      "outputs": [
        {
          "output_type": "stream",
          "name": "stdout",
          "text": [
            "True\n",
            "True\n"
          ]
        }
      ]
    },
    {
      "cell_type": "code",
      "source": [
        "print(text.endswith(\"gin\"))"
      ],
      "metadata": {
        "colab": {
          "base_uri": "https://localhost:8080/"
        },
        "id": "hYMXZg7ecP_4",
        "outputId": "428e6737-8908-4ccf-cae6-1a3289223fa2"
      },
      "execution_count": null,
      "outputs": [
        {
          "output_type": "stream",
          "name": "stdout",
          "text": [
            "False\n"
          ]
        }
      ]
    },
    {
      "cell_type": "code",
      "source": [
        "print(text.startswith('e', 1))"
      ],
      "metadata": {
        "colab": {
          "base_uri": "https://localhost:8080/"
        },
        "id": "yOcftxxNdchG",
        "outputId": "994841cb-e40b-43fc-ec7c-2f5749bee798"
      },
      "execution_count": null,
      "outputs": [
        {
          "output_type": "stream",
          "name": "stdout",
          "text": [
            "True\n"
          ]
        }
      ]
    },
    {
      "cell_type": "code",
      "source": [
        "print(text.endswith(\"n\", 0, 5))"
      ],
      "metadata": {
        "colab": {
          "base_uri": "https://localhost:8080/"
        },
        "id": "bPQjDNjTeWYv",
        "outputId": "47fae508-0a8a-40c5-bff7-cd9f0a4ae394"
      },
      "execution_count": null,
      "outputs": [
        {
          "output_type": "stream",
          "name": "stdout",
          "text": [
            "True\n"
          ]
        }
      ]
    },
    {
      "cell_type": "code",
      "source": [
        "print('AhMeT'.swapcase())"
      ],
      "metadata": {
        "colab": {
          "base_uri": "https://localhost:8080/"
        },
        "id": "l9p8_Emqe2kt",
        "outputId": "193a24af-9cee-4a52-bf13-965283e7d7d6"
      },
      "execution_count": null,
      "outputs": [
        {
          "output_type": "stream",
          "name": "stdout",
          "text": [
            "aHmEt\n"
          ]
        }
      ]
    },
    {
      "cell_type": "code",
      "source": [
        "print('aHmeT'.capitalize())"
      ],
      "metadata": {
        "colab": {
          "base_uri": "https://localhost:8080/"
        },
        "id": "rjv1XFxOjg4U",
        "outputId": "892811cf-c590-4280-f79b-647d0dc7747c"
      },
      "execution_count": null,
      "outputs": [
        {
          "output_type": "stream",
          "name": "stdout",
          "text": [
            "Ahmet\n"
          ]
        }
      ]
    },
    {
      "cell_type": "code",
      "source": [
        "ultry = \"Bu akşam dolunay var.\""
      ],
      "metadata": {
        "id": "D2PpE9wWjsoP"
      },
      "execution_count": null,
      "outputs": []
    },
    {
      "cell_type": "code",
      "source": [
        "print(ultry.upper())"
      ],
      "metadata": {
        "colab": {
          "base_uri": "https://localhost:8080/"
        },
        "id": "tQa5AYMMjyLT",
        "outputId": "4509d3b5-d530-4285-8b1b-778639fbebbc"
      },
      "execution_count": null,
      "outputs": [
        {
          "output_type": "stream",
          "name": "stdout",
          "text": [
            "BU AKŞAM DOLUNAY VAR.\n"
          ]
        }
      ]
    },
    {
      "cell_type": "code",
      "source": [
        "print(ultry.lower())"
      ],
      "metadata": {
        "colab": {
          "base_uri": "https://localhost:8080/"
        },
        "id": "O9fsLQvfkLHg",
        "outputId": "3cf96671-c393-4d43-a115-901c505a54e4"
      },
      "execution_count": null,
      "outputs": [
        {
          "output_type": "stream",
          "name": "stdout",
          "text": [
            "bu akşam dolunay var.\n"
          ]
        }
      ]
    },
    {
      "cell_type": "code",
      "source": [
        "print(ultry.title())"
      ],
      "metadata": {
        "colab": {
          "base_uri": "https://localhost:8080/"
        },
        "id": "JMvHofzSkPjW",
        "outputId": "88d6b2e7-a8e6-4540-9802-d74cfad14df8"
      },
      "execution_count": null,
      "outputs": [
        {
          "output_type": "stream",
          "name": "stdout",
          "text": [
            "Bu Akşam Dolunay Var.\n"
          ]
        }
      ]
    },
    {
      "cell_type": "code",
      "source": [
        "print(ultry.upper().title()) "
      ],
      "metadata": {
        "colab": {
          "base_uri": "https://localhost:8080/"
        },
        "id": "NWWbsbQ1kVWf",
        "outputId": "1730258e-0e73-44db-87cd-998f44353dcf"
      },
      "execution_count": null,
      "outputs": [
        {
          "output_type": "stream",
          "name": "stdout",
          "text": [
            "Bu Akşam Dolunay Var.\n"
          ]
        }
      ]
    },
    {
      "cell_type": "code",
      "source": [
        "print(ultry.title().upper())  # methodları arka arkaya uygulayabiliriz."
      ],
      "metadata": {
        "colab": {
          "base_uri": "https://localhost:8080/"
        },
        "id": "DjeHVZrOk34R",
        "outputId": "ea7ea6a3-7c9b-41a4-a37b-71cd56302c75"
      },
      "execution_count": null,
      "outputs": [
        {
          "output_type": "stream",
          "name": "stdout",
          "text": [
            "BU AKŞAM DOLUNAY VAR.\n"
          ]
        }
      ]
    },
    {
      "cell_type": "code",
      "source": [
        "text = \"S0d0me and G0m0re\"\n",
        "text = text.replace('0', 'o')\n",
        "print(text)"
      ],
      "metadata": {
        "colab": {
          "base_uri": "https://localhost:8080/"
        },
        "id": "dZevf7HQk9k1",
        "outputId": "db8bda60-c0ac-4a2c-e950-3e63fe944f6d"
      },
      "execution_count": null,
      "outputs": [
        {
          "output_type": "stream",
          "name": "stdout",
          "text": [
            "Sodome and Gomore\n"
          ]
        }
      ]
    },
    {
      "cell_type": "code",
      "source": [
        "stripd = \"\\tali veli deli\\t\""
      ],
      "metadata": {
        "id": "3QqA5plUmyum"
      },
      "execution_count": null,
      "outputs": []
    },
    {
      "cell_type": "code",
      "source": [
        "print(stripd)"
      ],
      "metadata": {
        "colab": {
          "base_uri": "https://localhost:8080/"
        },
        "id": "QrJrsAX3oXJ-",
        "outputId": "07fa35d5-44b7-48c1-97fb-08530327e9af"
      },
      "execution_count": null,
      "outputs": [
        {
          "output_type": "stream",
          "name": "stdout",
          "text": [
            "\tali veli deli\t\n"
          ]
        }
      ]
    },
    {
      "cell_type": "code",
      "source": [
        "print(stripd.strip())"
      ],
      "metadata": {
        "colab": {
          "base_uri": "https://localhost:8080/"
        },
        "id": "4OnqZdIyo4r_",
        "outputId": "1a790a8d-435b-4216-f84c-a6dbf68149e0"
      },
      "execution_count": null,
      "outputs": [
        {
          "output_type": "stream",
          "name": "stdout",
          "text": [
            "ali veli deli\n"
          ]
        }
      ]
    },
    {
      "cell_type": "code",
      "source": [
        "print(stripd.rstrip())"
      ],
      "metadata": {
        "colab": {
          "base_uri": "https://localhost:8080/"
        },
        "id": "kosQiF5uo8Zt",
        "outputId": "7679b306-7ca2-4e97-f2e6-afc5752cdecc"
      },
      "execution_count": null,
      "outputs": [
        {
          "output_type": "stream",
          "name": "stdout",
          "text": [
            "\tali veli deli\n"
          ]
        }
      ]
    },
    {
      "cell_type": "code",
      "source": [
        "print(stripd.lstrip())"
      ],
      "metadata": {
        "colab": {
          "base_uri": "https://localhost:8080/"
        },
        "id": "Y57x8mFuo_6-",
        "outputId": "14db387b-65a5-4443-d138-e900500fb39a"
      },
      "execution_count": null,
      "outputs": [
        {
          "output_type": "stream",
          "name": "stdout",
          "text": [
            "ali veli deli\t\n"
          ]
        }
      ]
    },
    {
      "cell_type": "code",
      "source": [
        "print(text.strip(\"Se\"))"
      ],
      "metadata": {
        "colab": {
          "base_uri": "https://localhost:8080/"
        },
        "id": "RXXLIAGNpFtr",
        "outputId": "84e20452-227a-4dca-8ff7-d7b2a1d8f45d"
      },
      "execution_count": null,
      "outputs": [
        {
          "output_type": "stream",
          "name": "stdout",
          "text": [
            "odome and Gomor\n"
          ]
        }
      ]
    },
    {
      "cell_type": "code",
      "source": [
        "print(text.lstrip(\"S\"))"
      ],
      "metadata": {
        "colab": {
          "base_uri": "https://localhost:8080/"
        },
        "id": "3KIuF0fdpTel",
        "outputId": "586f8a2b-6963-4c0b-e460-c36691b6c927"
      },
      "execution_count": null,
      "outputs": [
        {
          "output_type": "stream",
          "name": "stdout",
          "text": [
            "odome and Gomore\n"
          ]
        }
      ]
    },
    {
      "cell_type": "code",
      "source": [
        "print(text.rstrip(\"re\"))"
      ],
      "metadata": {
        "colab": {
          "base_uri": "https://localhost:8080/"
        },
        "id": "GOQXBpILpbu0",
        "outputId": "f6e035ed-7b17-44b3-f42a-4f5104ae7ce6"
      },
      "execution_count": null,
      "outputs": [
        {
          "output_type": "stream",
          "name": "stdout",
          "text": [
            "Sodome and Gomo\n"
          ]
        }
      ]
    },
    {
      "cell_type": "code",
      "source": [
        "karışık = \"ayou can learn everythingb\"\n",
        "print(karışık.strip('ab').upper())\n"
      ],
      "metadata": {
        "colab": {
          "base_uri": "https://localhost:8080/"
        },
        "id": "qgdinaHDpd-v",
        "outputId": "7bc4a615-2e63-4a7a-90b0-74058bfb2a1e"
      },
      "execution_count": null,
      "outputs": [
        {
          "output_type": "stream",
          "name": "stdout",
          "text": [
            "YOU CAN LEARN EVERYTHING\n"
          ]
        }
      ]
    },
    {
      "cell_type": "code",
      "source": [
        "x = 2\n",
        "y = 3\n",
        "print(\"The power of {} to {} is : {}\".format(y, x, x ** y))"
      ],
      "metadata": {
        "colab": {
          "base_uri": "https://localhost:8080/"
        },
        "id": "kSO3ACkQqedz",
        "outputId": "cc20dcce-f1cc-4fe1-e34a-2369cc0b23ee"
      },
      "execution_count": null,
      "outputs": [
        {
          "output_type": "stream",
          "name": "stdout",
          "text": [
            "The power of 3 to 2 is : 8\n"
          ]
        }
      ]
    },
    {
      "cell_type": "code",
      "source": [
        "text = \"{:.2f}, {:.3f}, {:.4f}\".format(3.1468, 5.6648, 7.3244)\n",
        "print(text)"
      ],
      "metadata": {
        "colab": {
          "base_uri": "https://localhost:8080/"
        },
        "id": "8Wp0CWrqsx6C",
        "outputId": "e764eb18-610c-41f7-ce86-b5bf6a572ab7"
      },
      "execution_count": null,
      "outputs": [
        {
          "output_type": "stream",
          "name": "stdout",
          "text": [
            "3.15, 5.665, 7.3244\n"
          ]
        }
      ]
    },
    {
      "cell_type": "code",
      "source": [
        "text = \"{:.2s}, {:.3s}, {:.4s}\".format(\"3a.1468\", \"5.b66b48\", \"7.3244c\")\n",
        "print(text)"
      ],
      "metadata": {
        "colab": {
          "base_uri": "https://localhost:8080/"
        },
        "id": "zrrHHXzwtNjI",
        "outputId": "3e619cf3-397f-49c0-8928-b70e34fd8a70"
      },
      "execution_count": null,
      "outputs": [
        {
          "output_type": "stream",
          "name": "stdout",
          "text": [
            "3a, 5.b, 7.32\n"
          ]
        }
      ]
    },
    {
      "cell_type": "code",
      "source": [
        "text = \"{:.2}, {:.3}, {:.4}\".format(\"3a.1468\", \"5.b66b48\", \"7.3244c\")\n",
        "print(text)"
      ],
      "metadata": {
        "colab": {
          "base_uri": "https://localhost:8080/"
        },
        "id": "VE0hZ2JwuSnw",
        "outputId": "4a6094e5-c596-4387-cb27-eea0add36009"
      },
      "execution_count": null,
      "outputs": [
        {
          "output_type": "stream",
          "name": "stdout",
          "text": [
            "3a, 5.b, 7.32\n"
          ]
        }
      ]
    },
    {
      "cell_type": "code",
      "source": [
        "text = \"{:>10}\".format(\"test\")\n",
        "text"
      ],
      "metadata": {
        "colab": {
          "base_uri": "https://localhost:8080/",
          "height": 35
        },
        "id": "Z7yaY81JudrS",
        "outputId": "d1e8ae8c-00fc-4a58-fba5-137131c902c2"
      },
      "execution_count": null,
      "outputs": [
        {
          "output_type": "execute_result",
          "data": {
            "text/plain": [
              "'      test'"
            ],
            "application/vnd.google.colaboratory.intrinsic+json": {
              "type": "string"
            }
          },
          "metadata": {},
          "execution_count": 74
        }
      ]
    },
    {
      "cell_type": "code",
      "source": [
        "text = \"{:<10}\".format(\"test\")\n",
        "text"
      ],
      "metadata": {
        "colab": {
          "base_uri": "https://localhost:8080/",
          "height": 35
        },
        "id": "pgPjGVUHu-_E",
        "outputId": "480f8985-50b1-4708-b680-daf2092a0742"
      },
      "execution_count": null,
      "outputs": [
        {
          "output_type": "execute_result",
          "data": {
            "text/plain": [
              "'test      '"
            ],
            "application/vnd.google.colaboratory.intrinsic+json": {
              "type": "string"
            }
          },
          "metadata": {},
          "execution_count": 75
        }
      ]
    },
    {
      "cell_type": "code",
      "source": [
        "text = \"ortada boşluk {:>20} olması için\".format(\"test\")\n",
        "text"
      ],
      "metadata": {
        "colab": {
          "base_uri": "https://localhost:8080/",
          "height": 35
        },
        "id": "nxKQH756vMpY",
        "outputId": "f74bcdb7-f14e-4620-b962-881504ac81e9"
      },
      "execution_count": null,
      "outputs": [
        {
          "output_type": "execute_result",
          "data": {
            "text/plain": [
              "'ortada boşluk                 test olması için'"
            ],
            "application/vnd.google.colaboratory.intrinsic+json": {
              "type": "string"
            }
          },
          "metadata": {},
          "execution_count": 78
        }
      ]
    },
    {
      "cell_type": "code",
      "source": [
        "\"{:>15.5}\".format(\"formatdenemeleri\")"
      ],
      "metadata": {
        "colab": {
          "base_uri": "https://localhost:8080/",
          "height": 35
        },
        "id": "LxDIT5evvkcd",
        "outputId": "2efa3840-2375-4aca-b28d-7cdab0b15e91"
      },
      "execution_count": null,
      "outputs": [
        {
          "output_type": "execute_result",
          "data": {
            "text/plain": [
              "'          forma'"
            ],
            "application/vnd.google.colaboratory.intrinsic+json": {
              "type": "string"
            }
          },
          "metadata": {},
          "execution_count": 80
        }
      ]
    },
    {
      "cell_type": "code",
      "source": [
        "\"{:+}\".format(55)"
      ],
      "metadata": {
        "colab": {
          "base_uri": "https://localhost:8080/",
          "height": 35
        },
        "id": "EKvjNibewD4E",
        "outputId": "7b82f3c8-0a61-4e41-8d93-f29751d8041d"
      },
      "execution_count": null,
      "outputs": [
        {
          "output_type": "execute_result",
          "data": {
            "text/plain": [
              "'+55'"
            ],
            "application/vnd.google.colaboratory.intrinsic+json": {
              "type": "string"
            }
          },
          "metadata": {},
          "execution_count": 81
        }
      ]
    },
    {
      "cell_type": "code",
      "source": [
        ""
      ],
      "metadata": {
        "id": "eVv3dO03wMqQ"
      },
      "execution_count": null,
      "outputs": []
    }
  ]
}