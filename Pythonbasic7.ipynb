{
  "nbformat": 4,
  "nbformat_minor": 0,
  "metadata": {
    "colab": {
      "name": "Pythonbasic7.ipynb",
      "provenance": [],
      "collapsed_sections": [],
      "authorship_tag": "ABX9TyPjunI+7puYMLU9KLsaAzFZ",
      "include_colab_link": true
    },
    "kernelspec": {
      "name": "python3",
      "display_name": "Python 3"
    },
    "language_info": {
      "name": "python"
    }
  },
  "cells": [
    {
      "cell_type": "markdown",
      "metadata": {
        "id": "view-in-github",
        "colab_type": "text"
      },
      "source": [
        "<a href=\"https://colab.research.google.com/github/Mithra-py/python_workshop/blob/main/Pythonbasic7.ipynb\" target=\"_parent\"><img src=\"https://colab.research.google.com/assets/colab-badge.svg\" alt=\"Open In Colab\"/></a>"
      ]
    },
    {
      "cell_type": "code",
      "execution_count": null,
      "metadata": {
        "colab": {
          "base_uri": "https://localhost:8080/"
        },
        "id": "dCsUMeC_ge18",
        "outputId": "f5e991d4-5641-4240-a187-59b3907f5cec"
      },
      "outputs": [
        {
          "output_type": "execute_result",
          "data": {
            "text/plain": [
              "['a', 'h', 'm', 'e', 't']"
            ]
          },
          "metadata": {},
          "execution_count": 2
        }
      ],
      "source": [
        "list(\"ahmet\")"
      ]
    },
    {
      "cell_type": "code",
      "source": [
        "string_1 = \"be happy\"\n",
        "\n",
        "new_list_1 = list(string_1)\n",
        "print(new_list_1)\n",
        "\n",
        "new_list_2 = [string_1]\n",
        "print(new_list_2)"
      ],
      "metadata": {
        "colab": {
          "base_uri": "https://localhost:8080/"
        },
        "id": "SggpkGuIoLVO",
        "outputId": "fae0427f-7979-4420-84ea-a6b3b178ba51"
      },
      "execution_count": null,
      "outputs": [
        {
          "output_type": "stream",
          "name": "stdout",
          "text": [
            "['b', 'e', ' ', 'h', 'a', 'p', 'p', 'y']\n",
            "['be happy']\n"
          ]
        }
      ]
    },
    {
      "cell_type": "code",
      "source": [
        "mixed_list = [11, 'ahmet', False, 3.14, None, [1, 2, 3]]\n",
        "print(mixed_list)"
      ],
      "metadata": {
        "colab": {
          "base_uri": "https://localhost:8080/"
        },
        "id": "xjJcwf2fqY9_",
        "outputId": "105d6269-a0e9-45e7-aa30-8f743e7ddb01"
      },
      "execution_count": null,
      "outputs": [
        {
          "output_type": "stream",
          "name": "stdout",
          "text": [
            "[11, 'ahmet', False, 3.14, None, [1, 2, 3]]\n"
          ]
        }
      ]
    },
    {
      "cell_type": "code",
      "source": [
        "listem = []\n",
        "listem.append(11)  # Listenin sonuna eleman ekler.\n",
        "print(listem)"
      ],
      "metadata": {
        "colab": {
          "base_uri": "https://localhost:8080/"
        },
        "id": "Fd0chvrosbU9",
        "outputId": "4e107fdd-3a51-45a7-9dc0-7b78cbe59c0d"
      },
      "execution_count": null,
      "outputs": [
        {
          "output_type": "stream",
          "name": "stdout",
          "text": [
            "[11]\n"
          ]
        }
      ]
    },
    {
      "cell_type": "code",
      "source": [
        "sayılar = [1, 3, 5]\n",
        "print(sayılar)"
      ],
      "metadata": {
        "colab": {
          "base_uri": "https://localhost:8080/"
        },
        "id": "vjTIzO-qsyUu",
        "outputId": "45b136b9-2ca4-464e-a683-c359b07c1445"
      },
      "execution_count": null,
      "outputs": [
        {
          "output_type": "stream",
          "name": "stdout",
          "text": [
            "[1, 3, 5]\n"
          ]
        }
      ]
    },
    {
      "cell_type": "code",
      "source": [
        "sayılar.append(7)\n",
        "sayılar.append(\"9\")\n",
        "print(sayılar)"
      ],
      "metadata": {
        "colab": {
          "base_uri": "https://localhost:8080/"
        },
        "id": "-A0Y68AxvyyP",
        "outputId": "d6930bb2-7caf-43c7-a7a4-0f1ee086b205"
      },
      "execution_count": null,
      "outputs": [
        {
          "output_type": "stream",
          "name": "stdout",
          "text": [
            "[1, 3, 5, 7, '9']\n"
          ]
        }
      ]
    },
    {
      "cell_type": "code",
      "source": [
        "sayılar.pop()  #  paranteze index numarası eklenmeyince rastgele elemanı siler"
      ],
      "metadata": {
        "colab": {
          "base_uri": "https://localhost:8080/"
        },
        "id": "TipCMwHWv5Kx",
        "outputId": "e5af4d7e-a672-46e6-9535-ecdc216da088"
      },
      "execution_count": null,
      "outputs": [
        {
          "output_type": "execute_result",
          "data": {
            "text/plain": [
              "7"
            ]
          },
          "metadata": {},
          "execution_count": 22
        }
      ]
    },
    {
      "cell_type": "code",
      "source": [
        "sayılar.insert(3, 7)  # .insert kodu da elemanı istenilen index numarasına göre ekleme yapabilimemize yarıyor."
      ],
      "metadata": {
        "id": "zHU3uEg5wgRm"
      },
      "execution_count": null,
      "outputs": []
    },
    {
      "cell_type": "code",
      "source": [
        "print(sayılar)"
      ],
      "metadata": {
        "colab": {
          "base_uri": "https://localhost:8080/"
        },
        "id": "oI8P9Cwuw87z",
        "outputId": "c948682f-2c2a-4801-fce6-dccbcd61c96a"
      },
      "execution_count": null,
      "outputs": [
        {
          "output_type": "stream",
          "name": "stdout",
          "text": [
            "[1, 3, 5, 7, 9]\n"
          ]
        }
      ]
    },
    {
      "cell_type": "code",
      "source": [
        "sayılar.remove(3)  # parantezin içine yazılan elemanı siler."
      ],
      "metadata": {
        "id": "n6aHW4E7y9VH"
      },
      "execution_count": null,
      "outputs": []
    },
    {
      "cell_type": "code",
      "source": [
        "sayılar"
      ],
      "metadata": {
        "colab": {
          "base_uri": "https://localhost:8080/"
        },
        "id": "GhF29Gux0p5C",
        "outputId": "dfbf7745-55d7-4e8f-943c-5c6400e9c80e"
      },
      "execution_count": null,
      "outputs": [
        {
          "output_type": "execute_result",
          "data": {
            "text/plain": [
              "[1, 5, 7, 9]"
            ]
          },
          "metadata": {},
          "execution_count": 34
        }
      ]
    },
    {
      "cell_type": "code",
      "source": [
        "sayılar_2 = [8, 4, 9, 6, 2, 1, 5]\n",
        "sayılar_2"
      ],
      "metadata": {
        "colab": {
          "base_uri": "https://localhost:8080/"
        },
        "id": "etcQ9DxE0rQn",
        "outputId": "09b95603-15a5-4650-fd37-17125503f9ef"
      },
      "execution_count": null,
      "outputs": [
        {
          "output_type": "execute_result",
          "data": {
            "text/plain": [
              "[8, 4, 9, 6, 2, 1, 5]"
            ]
          },
          "metadata": {},
          "execution_count": 37
        }
      ]
    },
    {
      "cell_type": "code",
      "source": [
        "sayılar_2.sort()  # elemanları ascıı koda göre sıralar.\n",
        "sayılar_2"
      ],
      "metadata": {
        "colab": {
          "base_uri": "https://localhost:8080/"
        },
        "id": "RaC0JKTJ1YVB",
        "outputId": "44fa2f75-17ea-4583-ae3e-9fd12f386fae"
      },
      "execution_count": null,
      "outputs": [
        {
          "output_type": "execute_result",
          "data": {
            "text/plain": [
              "[1, 2, 4, 5, 6, 8, 9]"
            ]
          },
          "metadata": {},
          "execution_count": 38
        }
      ]
    },
    {
      "cell_type": "code",
      "source": [
        "print(ord(\"a\"))"
      ],
      "metadata": {
        "colab": {
          "base_uri": "https://localhost:8080/"
        },
        "id": "AngRe4DQ1fVl",
        "outputId": "782eeb88-a035-4ddb-bdee-b8498a1ca473"
      },
      "execution_count": null,
      "outputs": [
        {
          "output_type": "stream",
          "name": "stdout",
          "text": [
            "97\n"
          ]
        }
      ]
    },
    {
      "cell_type": "code",
      "source": [
        "ord(\"A\")  # ascıı kodlarına bakmak için kullanılır."
      ],
      "metadata": {
        "colab": {
          "base_uri": "https://localhost:8080/"
        },
        "id": "c7TnVNJs1vwX",
        "outputId": "fbf115f6-afaf-4ffe-cede-808dff428933"
      },
      "execution_count": null,
      "outputs": [
        {
          "output_type": "execute_result",
          "data": {
            "text/plain": [
              "65"
            ]
          },
          "metadata": {},
          "execution_count": 44
        }
      ]
    },
    {
      "cell_type": "code",
      "source": [
        "chr(65)  # ascıı kodunu yazarak karaktere ulaşılır."
      ],
      "metadata": {
        "colab": {
          "base_uri": "https://localhost:8080/",
          "height": 35
        },
        "id": "QQB-4WLI2FdQ",
        "outputId": "7d39159a-bdb6-4230-c2fc-91f4bf0ea025"
      },
      "execution_count": null,
      "outputs": [
        {
          "output_type": "execute_result",
          "data": {
            "text/plain": [
              "'A'"
            ],
            "application/vnd.google.colaboratory.intrinsic+json": {
              "type": "string"
            }
          },
          "metadata": {},
          "execution_count": 45
        }
      ]
    },
    {
      "cell_type": "code",
      "source": [
        ""
      ],
      "metadata": {
        "id": "T0fTdrbH4Ket"
      },
      "execution_count": null,
      "outputs": []
    }
  ]
}