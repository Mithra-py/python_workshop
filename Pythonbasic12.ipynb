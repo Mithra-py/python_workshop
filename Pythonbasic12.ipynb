{
  "nbformat": 4,
  "nbformat_minor": 0,
  "metadata": {
    "colab": {
      "name": "Pythonbasic12.ipynb",
      "provenance": [],
      "collapsed_sections": [],
      "authorship_tag": "ABX9TyO7u95cc8F5YC9lCxVqdaVx",
      "include_colab_link": true
    },
    "kernelspec": {
      "name": "python3",
      "display_name": "Python 3"
    },
    "language_info": {
      "name": "python"
    }
  },
  "cells": [
    {
      "cell_type": "markdown",
      "metadata": {
        "id": "view-in-github",
        "colab_type": "text"
      },
      "source": [
        "<a href=\"https://colab.research.google.com/github/Mithra-py/python_workshop/blob/main/Pythonbasic12.ipynb\" target=\"_parent\"><img src=\"https://colab.research.google.com/assets/colab-badge.svg\" alt=\"Open In Colab\"/></a>"
      ]
    },
    {
      "cell_type": "code",
      "execution_count": null,
      "metadata": {
        "id": "GKmQfGpjZBGu"
      },
      "outputs": [],
      "source": [
        "bool_value = False"
      ]
    },
    {
      "cell_type": "code",
      "source": [
        "if bool_value :\n",
        "  print(\"Yes\")\n",
        "else:\n",
        "  print (\"No\")"
      ],
      "metadata": {
        "colab": {
          "base_uri": "https://localhost:8080/"
        },
        "id": "0uGxUYzJZejD",
        "outputId": "d27fbdc8-7c39-4638-8b1a-419609d7b194"
      },
      "execution_count": null,
      "outputs": [
        {
          "output_type": "stream",
          "name": "stdout",
          "text": [
            "No\n"
          ]
        }
      ]
    },
    {
      "cell_type": "code",
      "source": [
        "bool_value = True"
      ],
      "metadata": {
        "id": "SiNgK6UEZplr"
      },
      "execution_count": null,
      "outputs": []
    },
    {
      "cell_type": "code",
      "source": [
        "if bool_value :\n",
        "  print(\"Yes\")\n",
        "else:\n",
        "  print (\"No\")"
      ],
      "metadata": {
        "colab": {
          "base_uri": "https://localhost:8080/"
        },
        "id": "2YIE8OdHZvs6",
        "outputId": "93c99347-4645-4390-8d50-8f7fc44e0be1"
      },
      "execution_count": null,
      "outputs": [
        {
          "output_type": "stream",
          "name": "stdout",
          "text": [
            "Yes\n"
          ]
        }
      ]
    },
    {
      "cell_type": "code",
      "source": [
        "audience = \"baby\"\n",
        "\n",
        "if audience == \"kid\":\n",
        "  print(\"it is free to go to cinema\")\n",
        "elif audience == \"teen\":\n",
        "  print(\"discounted price\")\n",
        "elif audience == \"adult\":\n",
        "  print(\"normal price\")\n",
        "else:\n",
        "  print(\"No such audience, stay at your home!\")"
      ],
      "metadata": {
        "colab": {
          "base_uri": "https://localhost:8080/"
        },
        "id": "GvV2G_H6ZwtM",
        "outputId": "0ae15255-6650-4254-a27a-735be341f194"
      },
      "execution_count": null,
      "outputs": [
        {
          "output_type": "stream",
          "name": "stdout",
          "text": [
            "No such audience, stay at your home!\n"
          ]
        }
      ]
    },
    {
      "cell_type": "code",
      "source": [
        "num1 = int(input(\"Enter the first number: \"))\n",
        "num2 = int(input(\"Enter the second number: \"))\n",
        "num3 = int(input(\"Enter the third number: \"))\n",
        "\n",
        "if (num1 > num2) and (num1 > num3):\n",
        "  print(f\"The largest number is {num1}\")\n",
        "elif (num2 > num1) and (num2 > num3):\n",
        "  print(f\"The largest number is {num2}\")\n",
        "else:\n",
        "  print(f\"The largest number is {num3}\")"
      ],
      "metadata": {
        "colab": {
          "base_uri": "https://localhost:8080/"
        },
        "id": "501qEz5PbLjK",
        "outputId": "b8cac7ca-632e-4c78-815f-3dadcac0e104"
      },
      "execution_count": null,
      "outputs": [
        {
          "output_type": "stream",
          "name": "stdout",
          "text": [
            "Enter the first number: 5\n",
            "Enter the second number: 6\n",
            "Enter the third number: 7\n",
            "The largest number is 7\n"
          ]
        }
      ]
    },
    {
      "cell_type": "code",
      "source": [
        "num1 = int(input(\"Enter the first number: \"))\n",
        "num2 = int(input(\"Enter the second number: \"))\n",
        "num3 = int(input(\"Enter the third number: \"))\n",
        "\n",
        "if (num1 > num2) and (num1 > num3):\n",
        "  largest = num1\n",
        "elif (num2 > num1) and (num2 > num3):\n",
        "  largest = num2\n",
        "else:\n",
        "  largest = num3\n",
        "print(\"The largest number is: \", largest)"
      ],
      "metadata": {
        "colab": {
          "base_uri": "https://localhost:8080/"
        },
        "id": "v4nXOslBb3gT",
        "outputId": "8beac20d-03d7-4712-cd08-012ba5be0845"
      },
      "execution_count": null,
      "outputs": [
        {
          "output_type": "stream",
          "name": "stdout",
          "text": [
            "Enter the first number: 5\n",
            "Enter the second number: 6\n",
            "Enter the third number: 7\n",
            "The largest number is:  7\n"
          ]
        }
      ]
    },
    {
      "cell_type": "code",
      "source": [
        "number = int(input(\"Enter your number: \"))\n",
        "\n",
        "if number > 0:\n",
        "  print(\"Positive number\")\n",
        "elif number < 0:\n",
        "  print(\"Negative number\")\n",
        "else:\n",
        "  print(\"Zero\")"
      ],
      "metadata": {
        "colab": {
          "base_uri": "https://localhost:8080/"
        },
        "id": "NtaKws-0eBot",
        "outputId": "6405d7e3-cfee-4c4b-82fc-f9ffb81e2a76"
      },
      "execution_count": null,
      "outputs": [
        {
          "output_type": "stream",
          "name": "stdout",
          "text": [
            "Enter your number: -10\n",
            "Negative number\n"
          ]
        }
      ]
    },
    {
      "cell_type": "code",
      "source": [
        "audience_group = \"teen\", \"kid\", \"adult\"\n",
        "audience = \"adult\"\n",
        "if audience in audience_group:\n",
        "  if audience == \"kid\":\n",
        "    print(\"it is free to go to cinema\")\n",
        "  elif audience == \"teen\":\n",
        "    print(\"discounted price\")\n",
        "  else:\n",
        "    print(\"normal price\")\n",
        "else:\n",
        "  print(\"No such audience, stay at your home!\")"
      ],
      "metadata": {
        "colab": {
          "base_uri": "https://localhost:8080/"
        },
        "id": "t7C69uIle4wD",
        "outputId": "68fc18ad-a91b-40a7-f565-018226c27ec1"
      },
      "execution_count": null,
      "outputs": [
        {
          "output_type": "stream",
          "name": "stdout",
          "text": [
            "normal price\n"
          ]
        }
      ]
    },
    {
      "cell_type": "code",
      "source": [
        "score = int(input(\"Enter your score: \"))\n",
        "\n",
        "if score >= 90:\n",
        "  if score >= 95:\n",
        "    score_letter = \"A+\"\n",
        "  else:\n",
        "    score_letter = \"A\"\n",
        "elif score >= 80:\n",
        "  if score >= 85:\n",
        "    score_letter = \"B+\"\n",
        "  else:\n",
        "    score_letter = \"B\"\n",
        "else:\n",
        "  score_letter = \"B-\"\n",
        "print(\"Your degree is: \",score_letter)"
      ],
      "metadata": {
        "colab": {
          "base_uri": "https://localhost:8080/"
        },
        "id": "N18sM_5HiOUS",
        "outputId": "4d8c0a71-64c2-4ddf-f32d-5f6b9e8e92a5"
      },
      "execution_count": null,
      "outputs": [
        {
          "output_type": "stream",
          "name": "stdout",
          "text": [
            "Enter your score: 83\n",
            "Your degree is:  B\n"
          ]
        }
      ]
    },
    {
      "cell_type": "code",
      "source": [
        "while 0:  # çalışmıyor.\n",
        "  print(\"one\")"
      ],
      "metadata": {
        "id": "yN8jx3Xsk5KU"
      },
      "execution_count": null,
      "outputs": []
    },
    {
      "cell_type": "code",
      "source": [
        "while 1:  # sonsuz döngüye giriyor.\n",
        "  print(\"one\")"
      ],
      "metadata": {
        "id": "jRQhieKNoaqn"
      },
      "execution_count": null,
      "outputs": []
    },
    {
      "cell_type": "code",
      "source": [
        "condition = 5\n",
        "while condition:\n",
        "  condition -= 1\n",
        "  print(condition)"
      ],
      "metadata": {
        "colab": {
          "base_uri": "https://localhost:8080/"
        },
        "id": "W1A61Mirogq4",
        "outputId": "36d8c920-072a-47c2-8464-497a7a262bd1"
      },
      "execution_count": null,
      "outputs": [
        {
          "output_type": "stream",
          "name": "stdout",
          "text": [
            "4\n",
            "3\n",
            "2\n",
            "1\n",
            "0\n"
          ]
        }
      ]
    },
    {
      "cell_type": "code",
      "source": [
        " number = 0\n",
        " while number < 6:\n",
        "   print(number)\n",
        "   number += 1\n",
        "print(\"Now, number is bigger or equal to 6\")"
      ],
      "metadata": {
        "colab": {
          "base_uri": "https://localhost:8080/"
        },
        "id": "6k84wEz9o8HI",
        "outputId": "d9425a03-3a63-4912-98a0-c4c447213f9d"
      },
      "execution_count": null,
      "outputs": [
        {
          "output_type": "stream",
          "name": "stdout",
          "text": [
            "0\n",
            "1\n",
            "2\n",
            "3\n",
            "4\n",
            "5\n",
            "Now, number is bigger or equal to 6\n"
          ]
        }
      ]
    },
    {
      "cell_type": "code",
      "source": [
        "condition = 5  # sonsuz döngüyü durdurmak için break komutu kullanılabilir.\n",
        "while True:\n",
        "  condition -= 1\n",
        "  print(condition)\n",
        "  if condition == 0:\n",
        "    break"
      ],
      "metadata": {
        "colab": {
          "base_uri": "https://localhost:8080/"
        },
        "id": "G-oYL5mHrwcg",
        "outputId": "29ef631c-6a2b-48e1-9ed7-d26136bf0596"
      },
      "execution_count": null,
      "outputs": [
        {
          "output_type": "stream",
          "name": "stdout",
          "text": [
            "4\n",
            "3\n",
            "2\n",
            "1\n",
            "0\n"
          ]
        }
      ]
    },
    {
      "cell_type": "code",
      "source": [
        "age = input(\"Enter your age: \")\n",
        "\n",
        "while not age.isdigit():\n",
        "  print (\"You entered incorrect.\")\n",
        "  age = input(\"Enter your age again: \")\n",
        "print(\"Great! You enter valid input\", age)"
      ],
      "metadata": {
        "colab": {
          "base_uri": "https://localhost:8080/"
        },
        "id": "z_AY14GHshIj",
        "outputId": "f736beca-d919-4321-b56f-8d32e016c9e9"
      },
      "execution_count": null,
      "outputs": [
        {
          "output_type": "stream",
          "name": "stdout",
          "text": [
            "Enter your age: -12\n",
            "You entered incorrect.\n",
            "Enter your age again: 15\n",
            "Great! You enter valid input 15\n"
          ]
        }
      ]
    },
    {
      "cell_type": "code",
      "source": [
        "answer = 22\n",
        "\n",
        "print(\"Let's play the guessing game!\")\n",
        "\n",
        "while True:\n",
        "  guess = int(input(\"What a two-digit number ama I thinking of?\"))\n",
        "  if guess < answer:\n",
        "    print(\"Little higher...\")\n",
        "  elif guess > answer:\n",
        "    print(\"Litlle lower...\")\n",
        "  else:\n",
        "    print(\"Are you a MİNDREADER!!!\")\n",
        "    break"
      ],
      "metadata": {
        "colab": {
          "base_uri": "https://localhost:8080/"
        },
        "id": "MEG5_RanvwbN",
        "outputId": "18889a97-898e-45ca-9945-19f13dd32816"
      },
      "execution_count": null,
      "outputs": [
        {
          "output_type": "stream",
          "name": "stdout",
          "text": [
            "Let's play the guessing game!\n",
            "What a two-digit number ama I thinking of?88\n",
            "Litlle lower...\n",
            "What a two-digit number ama I thinking of?56\n",
            "Litlle lower...\n",
            "What a two-digit number ama I thinking of?22\n",
            "Are you a MİNDREADER!!!\n"
          ]
        }
      ]
    },
    {
      "cell_type": "code",
      "source": [
        "sentence = input(\"Give me a sentence.\")\n",
        "\n",
        "word_list = sentence.split()\n",
        "i = 0\n",
        "longest = 0\n",
        "while i < len(word_list):\n",
        "  if len(word_list[i]) > longest:\n",
        "    longest = len(word_list[i])\n",
        "  i += 1\n",
        "print(\"The length of the longest word\", longest)"
      ],
      "metadata": {
        "colab": {
          "base_uri": "https://localhost:8080/"
        },
        "id": "pVmqWAhsB6SE",
        "outputId": "cc3a71d4-3c6b-4657-a229-61a625e0f193"
      },
      "execution_count": null,
      "outputs": [
        {
          "output_type": "stream",
          "name": "stdout",
          "text": [
            "Give me a sentence.the best is icecream\n",
            "The length of the longest word 8\n"
          ]
        }
      ]
    },
    {
      "cell_type": "code",
      "source": [
        ""
      ],
      "metadata": {
        "id": "I_eET7ffGlL3"
      },
      "execution_count": null,
      "outputs": []
    }
  ]
}